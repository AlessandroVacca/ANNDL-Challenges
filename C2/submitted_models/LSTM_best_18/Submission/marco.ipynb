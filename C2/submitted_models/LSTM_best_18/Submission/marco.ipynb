{
 "cells": [
  {
   "cell_type": "markdown",
   "source": [
    "# Import libraries"
   ],
   "metadata": {
    "collapsed": false
   },
   "id": "2bd975229dce4439"
  },
  {
   "cell_type": "code",
   "execution_count": 145,
   "id": "initial_id",
   "metadata": {
    "collapsed": true,
    "ExecuteTime": {
     "end_time": "2023-12-19T22:24:01.151335Z",
     "start_time": "2023-12-19T22:24:01.085950Z"
    }
   },
   "outputs": [],
   "source": [
    "import numpy as np\n",
    "from sklearn.ensemble import RandomForestRegressor\n",
    "from Utils import *\n",
    "from data_augmentation import *\n",
    "import tensorflow as tf\n",
    "from tensorflow.keras.models import Sequential\n",
    "from tensorflow.keras.layers import LSTM, Dense\n",
    "import os"
   ]
  },
  {
   "cell_type": "code",
   "execution_count": 146,
   "outputs": [
    {
     "name": "stdout",
     "output_type": "stream",
     "text": [
      "gpu_available:  True \tis_cuda_gpu_available:  True\n"
     ]
    },
    {
     "name": "stderr",
     "output_type": "stream",
     "text": [
      "2023-12-19 23:24:01.153196: I tensorflow/core/common_runtime/pluggable_device/pluggable_device_factory.cc:306] Could not identify NUMA node of platform GPU ID 0, defaulting to 0. Your kernel may not have been built with NUMA support.\n",
      "2023-12-19 23:24:01.153212: I tensorflow/core/common_runtime/pluggable_device/pluggable_device_factory.cc:272] Created TensorFlow device (/device:GPU:0 with 0 MB memory) -> physical PluggableDevice (device: 0, name: METAL, pci bus id: <undefined>)\n",
      "2023-12-19 23:24:01.153275: I tensorflow/core/common_runtime/pluggable_device/pluggable_device_factory.cc:306] Could not identify NUMA node of platform GPU ID 0, defaulting to 0. Your kernel may not have been built with NUMA support.\n",
      "2023-12-19 23:24:01.153279: I tensorflow/core/common_runtime/pluggable_device/pluggable_device_factory.cc:272] Created TensorFlow device (/device:GPU:0 with 0 MB memory) -> physical PluggableDevice (device: 0, name: METAL, pci bus id: <undefined>)\n",
      "2023-12-19 23:24:01.153308: I tensorflow/core/common_runtime/pluggable_device/pluggable_device_factory.cc:306] Could not identify NUMA node of platform GPU ID 0, defaulting to 0. Your kernel may not have been built with NUMA support.\n",
      "2023-12-19 23:24:01.153311: I tensorflow/core/common_runtime/pluggable_device/pluggable_device_factory.cc:272] Created TensorFlow device (/device:GPU:0 with 0 MB memory) -> physical PluggableDevice (device: 0, name: METAL, pci bus id: <undefined>)\n"
     ]
    }
   ],
   "source": [
    "# verify if GPU is available\n",
    "gpu_available = tf.test.is_gpu_available()\n",
    "is_cuda_gpu_available = tf.test.is_gpu_available(cuda_only=True)\n",
    "is_cuda_gpu_min_3 = tf.test.is_gpu_available(True, (3,0))\n",
    "print(\"gpu_available: \", gpu_available, \"\\tis_cuda_gpu_available: \", is_cuda_gpu_available)"
   ],
   "metadata": {
    "collapsed": false,
    "ExecuteTime": {
     "end_time": "2023-12-19T22:24:01.157921Z",
     "start_time": "2023-12-19T22:24:01.154342Z"
    }
   },
   "id": "bb5a7bebb2ddf692"
  },
  {
   "cell_type": "markdown",
   "source": [
    "# Import data"
   ],
   "metadata": {
    "collapsed": false
   },
   "id": "2533634461d9fb47"
  },
  {
   "cell_type": "code",
   "execution_count": 147,
   "outputs": [],
   "source": [
    "# Load the data\n",
    "training_data = np.load('training_dataset/training_data.npy')\n",
    "valid_periods = np.load('training_dataset/valid_periods.npy')\n",
    "categories = np.load('training_dataset/categories.npy')"
   ],
   "metadata": {
    "collapsed": false,
    "ExecuteTime": {
     "end_time": "2023-12-19T22:24:01.513530Z",
     "start_time": "2023-12-19T22:24:01.159062Z"
    }
   },
   "id": "cb7ae7e589a6327f"
  },
  {
   "cell_type": "markdown",
   "source": [
    "# Preprocess data"
   ],
   "metadata": {
    "collapsed": false
   },
   "id": "e3fc24353c8afc0a"
  },
  {
   "cell_type": "markdown",
   "source": [
    "## Build sequences"
   ],
   "metadata": {
    "collapsed": false
   },
   "id": "3b03a09b12118bf5"
  },
  {
   "cell_type": "code",
   "execution_count": 149,
   "outputs": [
    {
     "name": "stdout",
     "output_type": "stream",
     "text": [
      "padded sequences:  0\n",
      "Dataset shape:  (21000, 200)\n"
     ]
    }
   ],
   "source": [
    "dataset, labels = build_sequences_optimized(training_data, valid_periods)"
   ],
   "metadata": {
    "collapsed": false,
    "ExecuteTime": {
     "end_time": "2023-12-19T22:24:01.629298Z",
     "start_time": "2023-12-19T22:24:01.529331Z"
    }
   },
   "id": "aeeff0e8cb0f4abd"
  },
  {
   "cell_type": "markdown",
   "source": [
    "## Split dataset"
   ],
   "metadata": {
    "collapsed": false
   },
   "id": "f6b2edbba23091d9"
  },
  {
   "cell_type": "code",
   "execution_count": 150,
   "outputs": [
    {
     "name": "stdout",
     "output_type": "stream",
     "text": [
      "Train data shape:  (16800, 200)\n",
      "Test data shape:  (4200, 200)\n"
     ]
    }
   ],
   "source": [
    "train_data, train_labels, test_data, test_labels = split_dataset(dataset, labels)"
   ],
   "metadata": {
    "collapsed": false,
    "ExecuteTime": {
     "end_time": "2023-12-19T22:24:01.635806Z",
     "start_time": "2023-12-19T22:24:01.632784Z"
    }
   },
   "id": "70a2d9034f678b4e"
  },
  {
   "cell_type": "markdown",
   "source": [
    "# Models"
   ],
   "metadata": {
    "collapsed": false
   },
   "id": "8d6b1c4826290b97"
  },
  {
   "cell_type": "markdown",
   "source": [
    "## LSTM"
   ],
   "metadata": {
    "collapsed": false
   },
   "id": "1574f40e78715db6"
  },
  {
   "cell_type": "code",
   "execution_count": 152,
   "outputs": [
    {
     "name": "stdout",
     "output_type": "stream",
     "text": [
      "Epoch 1/50\n",
      "33/33 [==============================] - 2s 42ms/step - loss: 0.1590\n",
      "Epoch 2/50\n",
      "33/33 [==============================] - 1s 38ms/step - loss: 0.0229\n",
      "Epoch 3/50\n",
      "33/33 [==============================] - 1s 38ms/step - loss: 0.0190\n",
      "Epoch 4/50\n",
      "33/33 [==============================] - 1s 37ms/step - loss: 0.0182\n",
      "Epoch 5/50\n",
      "33/33 [==============================] - 1s 37ms/step - loss: 0.0177\n",
      "Epoch 6/50\n",
      "33/33 [==============================] - 1s 38ms/step - loss: 0.0173\n",
      "Epoch 7/50\n",
      "33/33 [==============================] - 1s 38ms/step - loss: 0.0169\n",
      "Epoch 8/50\n",
      "33/33 [==============================] - 1s 37ms/step - loss: 0.0167\n",
      "Epoch 9/50\n",
      "33/33 [==============================] - 1s 37ms/step - loss: 0.0165\n",
      "Epoch 10/50\n",
      "33/33 [==============================] - 1s 37ms/step - loss: 0.0164\n",
      "Epoch 11/50\n",
      "33/33 [==============================] - 1s 37ms/step - loss: 0.0163\n",
      "Epoch 12/50\n",
      "33/33 [==============================] - 1s 38ms/step - loss: 0.0163\n",
      "Epoch 13/50\n",
      "33/33 [==============================] - 1s 37ms/step - loss: 0.0160\n",
      "Epoch 14/50\n",
      "33/33 [==============================] - 1s 37ms/step - loss: 0.0160\n",
      "Epoch 15/50\n",
      "33/33 [==============================] - 1s 37ms/step - loss: 0.0159\n",
      "Epoch 16/50\n",
      "33/33 [==============================] - 1s 38ms/step - loss: 0.0158\n",
      "Epoch 17/50\n",
      "33/33 [==============================] - 1s 38ms/step - loss: 0.0158\n",
      "Epoch 18/50\n",
      "33/33 [==============================] - 1s 38ms/step - loss: 0.0157\n",
      "Epoch 19/50\n",
      "33/33 [==============================] - 1s 37ms/step - loss: 0.0156\n",
      "Epoch 20/50\n",
      "33/33 [==============================] - 1s 38ms/step - loss: 0.0156\n",
      "Epoch 21/50\n",
      "33/33 [==============================] - 1s 37ms/step - loss: 0.0156\n",
      "Epoch 22/50\n",
      "33/33 [==============================] - 1s 38ms/step - loss: 0.0155\n",
      "Epoch 23/50\n",
      "33/33 [==============================] - 1s 38ms/step - loss: 0.0155\n",
      "Epoch 24/50\n",
      "33/33 [==============================] - 1s 37ms/step - loss: 0.0155\n",
      "Epoch 25/50\n",
      "33/33 [==============================] - 1s 38ms/step - loss: 0.0154\n",
      "Epoch 26/50\n",
      "33/33 [==============================] - 1s 37ms/step - loss: 0.0154\n",
      "Epoch 27/50\n",
      "33/33 [==============================] - 1s 38ms/step - loss: 0.0154\n",
      "Epoch 28/50\n",
      "33/33 [==============================] - 1s 38ms/step - loss: 0.0154\n",
      "Epoch 29/50\n",
      "33/33 [==============================] - 1s 38ms/step - loss: 0.0153\n",
      "Epoch 30/50\n",
      "33/33 [==============================] - 1s 38ms/step - loss: 0.0153\n",
      "Epoch 31/50\n",
      "33/33 [==============================] - 1s 38ms/step - loss: 0.0153\n",
      "Epoch 32/50\n",
      "33/33 [==============================] - 1s 38ms/step - loss: 0.0152\n",
      "Epoch 33/50\n",
      "33/33 [==============================] - 1s 37ms/step - loss: 0.0152\n",
      "Epoch 34/50\n",
      "33/33 [==============================] - 1s 38ms/step - loss: 0.0152\n",
      "Epoch 35/50\n",
      "33/33 [==============================] - 1s 37ms/step - loss: 0.0152\n",
      "Epoch 36/50\n",
      "33/33 [==============================] - 1s 38ms/step - loss: 0.0152\n",
      "Epoch 37/50\n",
      "33/33 [==============================] - 1s 37ms/step - loss: 0.0152\n",
      "Epoch 38/50\n",
      "33/33 [==============================] - 1s 38ms/step - loss: 0.0151\n",
      "Epoch 39/50\n",
      "33/33 [==============================] - 1s 37ms/step - loss: 0.0151\n",
      "Epoch 40/50\n",
      "33/33 [==============================] - 1s 37ms/step - loss: 0.0150\n",
      "Epoch 41/50\n",
      "33/33 [==============================] - 1s 38ms/step - loss: 0.0151\n",
      "Epoch 42/50\n",
      "33/33 [==============================] - 1s 37ms/step - loss: 0.0150\n",
      "Epoch 43/50\n",
      "33/33 [==============================] - 1s 38ms/step - loss: 0.0149\n",
      "Epoch 44/50\n",
      "33/33 [==============================] - 1s 37ms/step - loss: 0.0149\n",
      "Epoch 45/50\n",
      "33/33 [==============================] - 1s 37ms/step - loss: 0.0149\n",
      "Epoch 46/50\n",
      "33/33 [==============================] - 1s 37ms/step - loss: 0.0149\n",
      "Epoch 47/50\n",
      "33/33 [==============================] - 1s 38ms/step - loss: 0.0148\n",
      "Epoch 48/50\n",
      "33/33 [==============================] - 1s 37ms/step - loss: 0.0148\n",
      "Epoch 49/50\n",
      "33/33 [==============================] - 1s 37ms/step - loss: 0.0148\n",
      "Epoch 50/50\n",
      "33/33 [==============================] - 1s 37ms/step - loss: 0.0147\n"
     ]
    }
   ],
   "source": [
    "# Build LSTM model\n",
    "model = Sequential()\n",
    "model.add(LSTM(50, input_shape=(200, 1)))\n",
    "model.add(Dense(18))\n",
    "\n",
    "model.compile(optimizer='adam', loss='mean_squared_error')\n",
    "model.fit(train_data, train_labels, epochs=50, batch_size=512)"
   ],
   "metadata": {
    "collapsed": false,
    "ExecuteTime": {
     "end_time": "2023-12-19T22:25:04.762742Z",
     "start_time": "2023-12-19T22:24:01.642795Z"
    }
   },
   "id": "6630d85924213e03"
  },
  {
   "cell_type": "markdown",
   "source": [
    "# Evaluate model"
   ],
   "metadata": {
    "collapsed": false
   },
   "id": "693ec22f52c7174c"
  },
  {
   "cell_type": "code",
   "execution_count": 157,
   "outputs": [
    {
     "name": "stdout",
     "output_type": "stream",
     "text": [
      "Model: \"sequential_10\"\n",
      "_________________________________________________________________\n",
      " Layer (type)                Output Shape              Param #   \n",
      "=================================================================\n",
      " lstm_12 (LSTM)              (None, 50)                10400     \n",
      "                                                                 \n",
      " dense_9 (Dense)             (None, 18)                918       \n",
      "                                                                 \n",
      "=================================================================\n",
      "Total params: 11318 (44.21 KB)\n",
      "Trainable params: 11318 (44.21 KB)\n",
      "Non-trainable params: 0 (0.00 Byte)\n",
      "_________________________________________________________________\n",
      "132/132 [==============================] - 1s 10ms/step\n",
      "MAE: 0.06917916097850943\n",
      "MSE: 0.011076279320111043\n",
      "RMSE: 0.10524390395700381\n",
      "MAPE: 264883457.27433792%\n"
     ]
    }
   ],
   "source": [
    "telescope_musk = 9\n",
    "# Make predictions on the test data\n",
    "model.summary()\n",
    "predictions = model.predict(test_data)\n",
    "final_predictions = predictions[:, :telescope_musk]\n",
    "final_test_labels = test_labels[:, :telescope_musk]\n",
    "\n",
    "result = evaluate_model(final_test_labels, final_predictions)"
   ],
   "metadata": {
    "collapsed": false,
    "ExecuteTime": {
     "end_time": "2023-12-19T22:25:06.298507Z",
     "start_time": "2023-12-19T22:25:04.778189Z"
    }
   },
   "id": "29f14f86cd0c408"
  },
  {
   "cell_type": "code",
   "execution_count": null,
   "outputs": [],
   "source": [
    "for n in range(10):\n",
    "    plot_predictions(test_data, predictions, test_labels, n+100)"
   ],
   "metadata": {
    "collapsed": false
   },
   "id": "6cce5c7142929e29"
  },
  {
   "cell_type": "code",
   "execution_count": 159,
   "outputs": [],
   "source": [
    "model.save(\"models/lstm_model_VX.h5\")"
   ],
   "metadata": {
    "collapsed": false,
    "ExecuteTime": {
     "end_time": "2023-12-19T22:25:09.763227Z",
     "start_time": "2023-12-19T22:25:09.761634Z"
    }
   },
   "id": "37600af7a01648e1"
  }
 ],
 "metadata": {
  "kernelspec": {
   "display_name": "Python 3",
   "language": "python",
   "name": "python3"
  },
  "language_info": {
   "codemirror_mode": {
    "name": "ipython",
    "version": 2
   },
   "file_extension": ".py",
   "mimetype": "text/x-python",
   "name": "python",
   "nbconvert_exporter": "python",
   "pygments_lexer": "ipython2",
   "version": "2.7.6"
  }
 },
 "nbformat": 4,
 "nbformat_minor": 5
}
