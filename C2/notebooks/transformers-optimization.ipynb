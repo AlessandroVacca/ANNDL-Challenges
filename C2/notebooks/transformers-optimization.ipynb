{
 "cells": [
  {
   "cell_type": "code",
   "execution_count": 2,
   "id": "initial_id",
   "metadata": {
    "collapsed": true,
    "ExecuteTime": {
     "end_time": "2023-12-12T19:55:17.211224Z",
     "start_time": "2023-12-12T19:55:16.236139Z"
    }
   },
   "outputs": [],
   "source": [
    "import numpy as np\n",
    "from Utils import *\n",
    "\n",
    "# Load the data\n",
    "training_data = np.load('training_data.npy')\n",
    "valid_periods = np.load('valid_periods.npy')\n",
    "categories = np.load('categories.npy')"
   ]
  },
  {
   "cell_type": "code",
   "execution_count": 3,
   "outputs": [
    {
     "name": "stdout",
     "output_type": "stream",
     "text": [
      "Dataset shape:  (48000, 200)\n"
     ]
    }
   ],
   "source": [
    "dataset, labels = build_sequences_optimized(training_data, valid_periods)"
   ],
   "metadata": {
    "collapsed": false,
    "ExecuteTime": {
     "end_time": "2023-12-12T19:55:17.816853Z",
     "start_time": "2023-12-12T19:55:17.214725Z"
    }
   },
   "id": "aeeff0e8cb0f4abd"
  },
  {
   "cell_type": "code",
   "execution_count": 4,
   "outputs": [
    {
     "name": "stdout",
     "output_type": "stream",
     "text": [
      "Train data shape:  (38400, 200)\n",
      "Test data shape:  (9600, 200)\n"
     ]
    }
   ],
   "source": [
    "train_data, train_labels, test_data, test_labels = split_dataset(dataset, labels)"
   ],
   "metadata": {
    "collapsed": false,
    "ExecuteTime": {
     "end_time": "2023-12-12T19:55:17.817235Z",
     "start_time": "2023-12-12T19:55:17.814933Z"
    }
   },
   "id": "70a2d9034f678b4e"
  },
  {
   "cell_type": "code",
   "execution_count": 5,
   "outputs": [],
   "source": [
    "import tensorflow as tf\n",
    "from tensorflow.keras.models import Model\n",
    "from tensorflow.keras.layers import Input, Dense\n",
    "from tensorflow.keras.layers import MultiHeadAttention, Dropout, LayerNormalization\n",
    "from tensorflow.keras.optimizers import Adam\n",
    "\n",
    "# Define the Transformer block\n",
    "def transformer_encoder(inputs, head_size, num_heads, ff_dim, dropout=0):\n",
    "    # Normalization and Attention\n",
    "    x = LayerNormalization(epsilon=1e-6)(inputs)\n",
    "    x = MultiHeadAttention(\n",
    "        key_dim=head_size, num_heads=num_heads, dropout=dropout)(x, x)\n",
    "    x = Dropout(dropout)(x)\n",
    "    res = x + inputs\n",
    "\n",
    "    # Feed Forward\n",
    "    x = LayerNormalization(epsilon=1e-6)(res)\n",
    "    x = Dense(ff_dim, activation='relu')(x)\n",
    "    x = Dense(inputs.shape[-1])(x)\n",
    "    x = Dropout(dropout)(x)\n",
    "    return x + res\n",
    "\n",
    "# Define the model\n",
    "def build_model(input_shape, head_size, num_heads, ff_dim, num_transformer_blocks, mlp_units, dropout=0, mlp_dropout=0):\n",
    "    inputs = Input(shape=input_shape)\n",
    "    x = inputs\n",
    "    for _ in range(num_transformer_blocks):\n",
    "        x = transformer_encoder(x, head_size, num_heads, ff_dim, dropout)\n",
    "    x = LayerNormalization(epsilon=1e-6)(x)\n",
    "    for dim in mlp_units:\n",
    "        x = Dense(dim, activation='relu')(x)\n",
    "        x = Dropout(mlp_dropout)(x)\n",
    "    outputs = Dense(18)(x)\n",
    "    return Model(inputs, outputs)"
   ],
   "metadata": {
    "collapsed": false,
    "ExecuteTime": {
     "end_time": "2023-12-12T19:55:17.851715Z",
     "start_time": "2023-12-12T19:55:17.821088Z"
    }
   },
   "id": "a5bfea86fcfa8b50"
  },
  {
   "cell_type": "code",
   "execution_count": 6,
   "outputs": [],
   "source": [
    "import optuna as op\n",
    "from optuna.integration import KerasPruningCallback\n",
    "from optuna.trial import TrialState\n",
    "\n",
    "def objective(trial):\n",
    "    # Parameters\n",
    "    INPUT_SHAPE = (1, 200)\n",
    "    HEAD_SIZE = trial.suggest_categorical('HEAD_SIZE', [16, 32, 64])\n",
    "    NUM_HEADS = trial.suggest_categorical('NUM_HEADS', [2, 4, 8])\n",
    "    FF_DIM = trial.suggest_categorical('FF_DIM', [32, 64, 128])\n",
    "    NUM_TRANSFORMER_BLOCKS = trial.suggest_categorical('NUM_TRANSFORMER_BLOCKS', [2, 4, 8])\n",
    "    MLP_UNITS = trial.suggest_categorical('MLP_UNITS', [32, 64, 128])\n",
    "    DROPOUT = trial.suggest_categorical('DROPOUT', [0.1, 0.2, 0.3])\n",
    "    MLP_DROPOUT = trial.suggest_categorical('MLP_DROPOUT', [0.1, 0.2, 0.3])\n",
    "    LR = trial.suggest_categorical('LR', [0.0001, 0.0005, 0.001])\n",
    "    \n",
    "    MLP_UNITS = [MLP_UNITS]\n",
    "    \n",
    "    # Build and compile the model\n",
    "    model = build_model(INPUT_SHAPE, HEAD_SIZE, NUM_HEADS, FF_DIM, NUM_TRANSFORMER_BLOCKS, MLP_UNITS, DROPOUT, MLP_DROPOUT)\n",
    "    model.compile(loss='mse', optimizer=Adam(learning_rate=LR))\n",
    "    \n",
    "    # Reshape data for Transformer [samples, timesteps, features]\n",
    "    train_X = train_data.reshape((train_data.shape[0], 1, train_data.shape[1]))\n",
    "    test_X = test_data.reshape((test_data.shape[0], 1, test_data.shape[1]))\n",
    "    \n",
    "    # Fit the model\n",
    "    history = model.fit(train_X, train_labels, epochs=100, batch_size=64, validation_data=(test_X, test_labels), callbacks=[KerasPruningCallback(trial, \"val_loss\")], verbose=2)\n",
    "    \n",
    "    # Make predictions\n",
    "    yhat = model.predict(test_X)\n",
    "    predictions = yhat.reshape(yhat.shape[0], -1)\n",
    "    mse = mean_squared_error(test_labels, predictions)\n",
    "    return mse"
   ],
   "metadata": {
    "collapsed": false,
    "ExecuteTime": {
     "end_time": "2023-12-12T19:55:17.852368Z",
     "start_time": "2023-12-12T19:55:17.843721Z"
    }
   },
   "id": "9bc90f53f6459d7b"
  },
  {
   "cell_type": "code",
   "execution_count": null,
   "outputs": [
    {
     "name": "stderr",
     "output_type": "stream",
     "text": [
      "/var/folders/l3/n3yjvx_d2g9dy0ztkyft2th40000gn/T/ipykernel_77984/3498006658.py:3: FutureWarning: delete_study(): Please give all values as keyword arguments. See https://github.com/optuna/optuna/issues/3324 for details.\n",
      "  op.delete_study(study_name, storage_name)\n",
      "[I 2023-12-12 20:55:19,744] A new study created in RDB with name: transformer-study\n",
      "2023-12-12 20:55:19.775821: I metal_plugin/src/device/metal_device.cc:1154] Metal device set to: Apple M1 Pro\n",
      "2023-12-12 20:55:19.775849: I metal_plugin/src/device/metal_device.cc:296] systemMemory: 16.00 GB\n",
      "2023-12-12 20:55:19.775863: I metal_plugin/src/device/metal_device.cc:313] maxCacheSize: 5.33 GB\n",
      "2023-12-12 20:55:19.775896: I tensorflow/core/common_runtime/pluggable_device/pluggable_device_factory.cc:306] Could not identify NUMA node of platform GPU ID 0, defaulting to 0. Your kernel may not have been built with NUMA support.\n",
      "2023-12-12 20:55:19.775919: I tensorflow/core/common_runtime/pluggable_device/pluggable_device_factory.cc:272] Created TensorFlow device (/job:localhost/replica:0/task:0/device:GPU:0 with 0 MB memory) -> physical PluggableDevice (device: 0, name: METAL, pci bus id: <undefined>)\n",
      "WARNING:absl:At this time, the v2.11+ optimizer `tf.keras.optimizers.Adam` runs slowly on M1/M2 Macs, please use the legacy Keras optimizer instead, located at `tf.keras.optimizers.legacy.Adam`.\n"
     ]
    },
    {
     "name": "stdout",
     "output_type": "stream",
     "text": [
      "Epoch 1/100\n"
     ]
    },
    {
     "name": "stderr",
     "output_type": "stream",
     "text": [
      "/var/folders/l3/n3yjvx_d2g9dy0ztkyft2th40000gn/T/ipykernel_77984/1661807923.py:28: FutureWarning: KerasPruningCallback has been deprecated in v2.1.0. This feature will be removed in v4.0.0. See https://github.com/optuna/optuna/releases/tag/v2.1.0. Recent Keras release (2.4.0) simply redirects all APIs in the standalone keras package to point to tf.keras. There is now only one Keras: tf.keras. There may be some breaking changes for some workflows by upgrading to keras 2.4.0. Test before upgrading. REF: https://github.com/keras-team/keras/releases/tag/2.4.0. There is an alternative callback function that can be used instead: :class:`~optuna_integration.TFKerasPruningCallback`\n",
      "  history = model.fit(train_X, train_labels, epochs=100, batch_size=64, validation_data=(test_X, test_labels), callbacks=[KerasPruningCallback(trial, \"val_loss\")], verbose=2)\n",
      "2023-12-12 20:55:24.745738: I tensorflow/core/grappler/optimizers/custom_graph_optimizer_registry.cc:117] Plugin optimizer for device_type GPU is enabled.\n",
      "2023-12-12 20:55:25.163278: E tensorflow/core/grappler/optimizers/meta_optimizer.cc:961] model_pruner failed: INVALID_ARGUMENT: Graph does not contain terminal node Adam/AssignAddVariableOp.\n"
     ]
    },
    {
     "name": "stdout",
     "output_type": "stream",
     "text": [
      "600/600 - 124s - loss: 0.0970 - val_loss: 0.0747 - 124s/epoch - 206ms/step\n",
      "Epoch 2/100\n",
      "600/600 - 73s - loss: 0.0789 - val_loss: 0.0743 - 73s/epoch - 121ms/step\n",
      "Epoch 3/100\n",
      "600/600 - 72s - loss: 0.0783 - val_loss: 0.0731 - 72s/epoch - 119ms/step\n",
      "Epoch 4/100\n",
      "600/600 - 72s - loss: 0.0779 - val_loss: 0.0760 - 72s/epoch - 120ms/step\n",
      "Epoch 5/100\n",
      "600/600 - 71s - loss: 0.0777 - val_loss: 0.0734 - 71s/epoch - 118ms/step\n",
      "Epoch 6/100\n",
      "600/600 - 70s - loss: 0.0776 - val_loss: 0.0737 - 70s/epoch - 117ms/step\n",
      "Epoch 7/100\n",
      "600/600 - 71s - loss: 0.0774 - val_loss: 0.0751 - 71s/epoch - 119ms/step\n",
      "Epoch 8/100\n",
      "600/600 - 70s - loss: 0.0774 - val_loss: 0.0748 - 70s/epoch - 116ms/step\n",
      "Epoch 9/100\n",
      "600/600 - 70s - loss: 0.0773 - val_loss: 0.0731 - 70s/epoch - 116ms/step\n",
      "Epoch 10/100\n",
      "600/600 - 70s - loss: 0.0774 - val_loss: 0.0734 - 70s/epoch - 116ms/step\n",
      "Epoch 11/100\n",
      "600/600 - 70s - loss: 0.0773 - val_loss: 0.0744 - 70s/epoch - 117ms/step\n",
      "Epoch 12/100\n",
      "600/600 - 70s - loss: 0.0773 - val_loss: 0.0726 - 70s/epoch - 117ms/step\n",
      "Epoch 13/100\n",
      "600/600 - 70s - loss: 0.0773 - val_loss: 0.0736 - 70s/epoch - 117ms/step\n",
      "Epoch 14/100\n",
      "600/600 - 70s - loss: 0.0772 - val_loss: 0.0730 - 70s/epoch - 117ms/step\n",
      "Epoch 15/100\n",
      "600/600 - 70s - loss: 0.0772 - val_loss: 0.0728 - 70s/epoch - 117ms/step\n",
      "Epoch 16/100\n",
      "600/600 - 70s - loss: 0.0772 - val_loss: 0.0731 - 70s/epoch - 117ms/step\n",
      "Epoch 17/100\n",
      "600/600 - 70s - loss: 0.0772 - val_loss: 0.0732 - 70s/epoch - 117ms/step\n",
      "Epoch 18/100\n",
      "600/600 - 70s - loss: 0.0772 - val_loss: 0.0731 - 70s/epoch - 117ms/step\n",
      "Epoch 19/100\n",
      "600/600 - 70s - loss: 0.0771 - val_loss: 0.0731 - 70s/epoch - 117ms/step\n",
      "Epoch 20/100\n",
      "600/600 - 70s - loss: 0.0771 - val_loss: 0.0739 - 70s/epoch - 117ms/step\n",
      "Epoch 21/100\n",
      "600/600 - 70s - loss: 0.0771 - val_loss: 0.0726 - 70s/epoch - 117ms/step\n",
      "Epoch 22/100\n",
      "600/600 - 70s - loss: 0.0771 - val_loss: 0.0727 - 70s/epoch - 117ms/step\n",
      "Epoch 23/100\n",
      "600/600 - 70s - loss: 0.0772 - val_loss: 0.0730 - 70s/epoch - 117ms/step\n",
      "Epoch 24/100\n",
      "600/600 - 70s - loss: 0.0771 - val_loss: 0.0728 - 70s/epoch - 117ms/step\n",
      "Epoch 25/100\n",
      "600/600 - 70s - loss: 0.0771 - val_loss: 0.0730 - 70s/epoch - 117ms/step\n",
      "Epoch 26/100\n",
      "600/600 - 70s - loss: 0.0771 - val_loss: 0.0734 - 70s/epoch - 117ms/step\n",
      "Epoch 27/100\n",
      "600/600 - 70s - loss: 0.0771 - val_loss: 0.0729 - 70s/epoch - 117ms/step\n",
      "Epoch 28/100\n",
      "600/600 - 70s - loss: 0.0771 - val_loss: 0.0728 - 70s/epoch - 117ms/step\n",
      "Epoch 29/100\n",
      "600/600 - 70s - loss: 0.0771 - val_loss: 0.0726 - 70s/epoch - 117ms/step\n",
      "Epoch 30/100\n",
      "600/600 - 70s - loss: 0.0771 - val_loss: 0.0727 - 70s/epoch - 116ms/step\n",
      "Epoch 31/100\n",
      "600/600 - 70s - loss: 0.0770 - val_loss: 0.0730 - 70s/epoch - 117ms/step\n",
      "Epoch 32/100\n",
      "600/600 - 70s - loss: 0.0770 - val_loss: 0.0726 - 70s/epoch - 117ms/step\n",
      "Epoch 33/100\n",
      "600/600 - 70s - loss: 0.0771 - val_loss: 0.0726 - 70s/epoch - 117ms/step\n",
      "Epoch 34/100\n",
      "600/600 - 70s - loss: 0.0771 - val_loss: 0.0728 - 70s/epoch - 117ms/step\n",
      "Epoch 35/100\n",
      "600/600 - 70s - loss: 0.0771 - val_loss: 0.0727 - 70s/epoch - 117ms/step\n",
      "Epoch 36/100\n",
      "600/600 - 70s - loss: 0.0771 - val_loss: 0.0727 - 70s/epoch - 117ms/step\n",
      "Epoch 37/100\n",
      "600/600 - 70s - loss: 0.0771 - val_loss: 0.0725 - 70s/epoch - 117ms/step\n",
      "Epoch 38/100\n",
      "600/600 - 70s - loss: 0.0770 - val_loss: 0.0726 - 70s/epoch - 117ms/step\n",
      "Epoch 39/100\n",
      "600/600 - 70s - loss: 0.0771 - val_loss: 0.0726 - 70s/epoch - 117ms/step\n",
      "Epoch 40/100\n",
      "600/600 - 70s - loss: 0.0770 - val_loss: 0.0726 - 70s/epoch - 117ms/step\n",
      "Epoch 41/100\n",
      "600/600 - 70s - loss: 0.0771 - val_loss: 0.0726 - 70s/epoch - 117ms/step\n",
      "Epoch 42/100\n",
      "600/600 - 70s - loss: 0.0770 - val_loss: 0.0725 - 70s/epoch - 116ms/step\n",
      "Epoch 43/100\n",
      "600/600 - 70s - loss: 0.0770 - val_loss: 0.0726 - 70s/epoch - 116ms/step\n",
      "Epoch 44/100\n",
      "600/600 - 70s - loss: 0.0771 - val_loss: 0.0726 - 70s/epoch - 117ms/step\n",
      "Epoch 45/100\n",
      "600/600 - 70s - loss: 0.0771 - val_loss: 0.0727 - 70s/epoch - 117ms/step\n",
      "Epoch 46/100\n",
      "600/600 - 70s - loss: 0.0770 - val_loss: 0.0739 - 70s/epoch - 117ms/step\n",
      "Epoch 47/100\n",
      "600/600 - 70s - loss: 0.0770 - val_loss: 0.0726 - 70s/epoch - 117ms/step\n",
      "Epoch 48/100\n",
      "600/600 - 70s - loss: 0.0770 - val_loss: 0.0726 - 70s/epoch - 117ms/step\n",
      "Epoch 49/100\n",
      "600/600 - 70s - loss: 0.0770 - val_loss: 0.0726 - 70s/epoch - 117ms/step\n",
      "Epoch 50/100\n",
      "600/600 - 70s - loss: 0.0770 - val_loss: 0.0726 - 70s/epoch - 117ms/step\n",
      "Epoch 51/100\n",
      "600/600 - 70s - loss: 0.0770 - val_loss: 0.0725 - 70s/epoch - 117ms/step\n",
      "Epoch 52/100\n",
      "600/600 - 70s - loss: 0.0771 - val_loss: 0.0726 - 70s/epoch - 117ms/step\n",
      "Epoch 53/100\n",
      "600/600 - 70s - loss: 0.0770 - val_loss: 0.0726 - 70s/epoch - 117ms/step\n",
      "Epoch 54/100\n",
      "600/600 - 70s - loss: 0.0771 - val_loss: 0.0725 - 70s/epoch - 117ms/step\n",
      "Epoch 55/100\n",
      "600/600 - 70s - loss: 0.0770 - val_loss: 0.0726 - 70s/epoch - 117ms/step\n",
      "Epoch 56/100\n",
      "600/600 - 70s - loss: 0.0770 - val_loss: 0.0726 - 70s/epoch - 117ms/step\n",
      "Epoch 57/100\n",
      "600/600 - 70s - loss: 0.0770 - val_loss: 0.0726 - 70s/epoch - 116ms/step\n",
      "Epoch 58/100\n",
      "600/600 - 70s - loss: 0.0770 - val_loss: 0.0724 - 70s/epoch - 116ms/step\n",
      "Epoch 59/100\n",
      "600/600 - 70s - loss: 0.0770 - val_loss: 0.0728 - 70s/epoch - 116ms/step\n",
      "Epoch 60/100\n",
      "600/600 - 70s - loss: 0.0770 - val_loss: 0.0725 - 70s/epoch - 116ms/step\n",
      "Epoch 61/100\n",
      "600/600 - 70s - loss: 0.0770 - val_loss: 0.0726 - 70s/epoch - 116ms/step\n",
      "Epoch 62/100\n",
      "600/600 - 70s - loss: 0.0770 - val_loss: 0.0728 - 70s/epoch - 117ms/step\n",
      "Epoch 63/100\n",
      "600/600 - 70s - loss: 0.0770 - val_loss: 0.0727 - 70s/epoch - 117ms/step\n",
      "Epoch 64/100\n",
      "600/600 - 70s - loss: 0.0770 - val_loss: 0.0728 - 70s/epoch - 117ms/step\n",
      "Epoch 65/100\n",
      "600/600 - 71s - loss: 0.0771 - val_loss: 0.0726 - 71s/epoch - 118ms/step\n",
      "Epoch 66/100\n",
      "600/600 - 70s - loss: 0.0770 - val_loss: 0.0727 - 70s/epoch - 117ms/step\n",
      "Epoch 67/100\n",
      "600/600 - 70s - loss: 0.0771 - val_loss: 0.0725 - 70s/epoch - 117ms/step\n",
      "Epoch 68/100\n",
      "600/600 - 70s - loss: 0.0770 - val_loss: 0.0728 - 70s/epoch - 117ms/step\n",
      "Epoch 69/100\n",
      "600/600 - 70s - loss: 0.0770 - val_loss: 0.0726 - 70s/epoch - 117ms/step\n",
      "Epoch 70/100\n",
      "600/600 - 70s - loss: 0.0770 - val_loss: 0.0726 - 70s/epoch - 117ms/step\n",
      "Epoch 71/100\n",
      "600/600 - 70s - loss: 0.0770 - val_loss: 0.0725 - 70s/epoch - 117ms/step\n",
      "Epoch 72/100\n",
      "600/600 - 71s - loss: 0.0770 - val_loss: 0.0726 - 71s/epoch - 118ms/step\n",
      "Epoch 73/100\n",
      "600/600 - 70s - loss: 0.0770 - val_loss: 0.0726 - 70s/epoch - 117ms/step\n",
      "Epoch 74/100\n",
      "600/600 - 70s - loss: 0.0770 - val_loss: 0.0726 - 70s/epoch - 117ms/step\n",
      "Epoch 75/100\n",
      "600/600 - 70s - loss: 0.0770 - val_loss: 0.0726 - 70s/epoch - 117ms/step\n",
      "Epoch 76/100\n",
      "600/600 - 70s - loss: 0.0770 - val_loss: 0.0725 - 70s/epoch - 117ms/step\n",
      "Epoch 77/100\n",
      "600/600 - 70s - loss: 0.0770 - val_loss: 0.0726 - 70s/epoch - 117ms/step\n",
      "Epoch 78/100\n",
      "600/600 - 70s - loss: 0.0770 - val_loss: 0.0727 - 70s/epoch - 117ms/step\n",
      "Epoch 79/100\n",
      "600/600 - 70s - loss: 0.0770 - val_loss: 0.0726 - 70s/epoch - 117ms/step\n",
      "Epoch 80/100\n",
      "600/600 - 70s - loss: 0.0770 - val_loss: 0.0726 - 70s/epoch - 116ms/step\n",
      "Epoch 81/100\n",
      "600/600 - 70s - loss: 0.0770 - val_loss: 0.0728 - 70s/epoch - 117ms/step\n",
      "Epoch 82/100\n",
      "600/600 - 70s - loss: 0.0770 - val_loss: 0.0728 - 70s/epoch - 117ms/step\n",
      "Epoch 83/100\n",
      "600/600 - 70s - loss: 0.0770 - val_loss: 0.0726 - 70s/epoch - 117ms/step\n",
      "Epoch 84/100\n",
      "600/600 - 70s - loss: 0.0770 - val_loss: 0.0730 - 70s/epoch - 117ms/step\n",
      "Epoch 85/100\n",
      "600/600 - 70s - loss: 0.0770 - val_loss: 0.0726 - 70s/epoch - 117ms/step\n",
      "Epoch 86/100\n",
      "600/600 - 70s - loss: 0.0770 - val_loss: 0.0726 - 70s/epoch - 117ms/step\n",
      "Epoch 87/100\n",
      "600/600 - 70s - loss: 0.0770 - val_loss: 0.0727 - 70s/epoch - 117ms/step\n",
      "Epoch 88/100\n",
      "600/600 - 71s - loss: 0.0770 - val_loss: 0.0727 - 71s/epoch - 118ms/step\n",
      "Epoch 89/100\n",
      "600/600 - 70s - loss: 0.0770 - val_loss: 0.0726 - 70s/epoch - 117ms/step\n",
      "Epoch 90/100\n",
      "600/600 - 70s - loss: 0.0770 - val_loss: 0.0726 - 70s/epoch - 117ms/step\n",
      "Epoch 91/100\n",
      "600/600 - 70s - loss: 0.0770 - val_loss: 0.0725 - 70s/epoch - 116ms/step\n",
      "Epoch 92/100\n",
      "600/600 - 70s - loss: 0.0770 - val_loss: 0.0725 - 70s/epoch - 117ms/step\n",
      "Epoch 93/100\n",
      "600/600 - 70s - loss: 0.0770 - val_loss: 0.0726 - 70s/epoch - 117ms/step\n",
      "Epoch 94/100\n",
      "600/600 - 70s - loss: 0.0770 - val_loss: 0.0725 - 70s/epoch - 117ms/step\n",
      "Epoch 95/100\n",
      "600/600 - 70s - loss: 0.0770 - val_loss: 0.0725 - 70s/epoch - 117ms/step\n",
      "Epoch 96/100\n",
      "600/600 - 70s - loss: 0.0770 - val_loss: 0.0725 - 70s/epoch - 117ms/step\n",
      "Epoch 97/100\n",
      "600/600 - 71s - loss: 0.0770 - val_loss: 0.0726 - 71s/epoch - 118ms/step\n",
      "Epoch 98/100\n",
      "600/600 - 71s - loss: 0.0770 - val_loss: 0.0726 - 71s/epoch - 118ms/step\n",
      "Epoch 99/100\n",
      "600/600 - 71s - loss: 0.0770 - val_loss: 0.0725 - 71s/epoch - 118ms/step\n",
      "Epoch 100/100\n",
      "600/600 - 71s - loss: 0.0770 - val_loss: 0.0725 - 71s/epoch - 118ms/step\n",
      "300/300 [==============================] - 22s 42ms/step\n"
     ]
    },
    {
     "name": "stderr",
     "output_type": "stream",
     "text": [
      "[I 2023-12-12 22:53:40,904] Trial 0 finished with value: 0.0719843470591514 and parameters: {'HEAD_SIZE': 16, 'NUM_HEADS': 4, 'FF_DIM': 64, 'NUM_TRANSFORMER_BLOCKS': 8, 'MLP_UNITS': 64, 'DROPOUT': 0.2, 'MLP_DROPOUT': 0.1, 'LR': 0.0005}. Best is trial 0 with value: 0.0719843470591514.\n",
      "WARNING:absl:At this time, the v2.11+ optimizer `tf.keras.optimizers.Adam` runs slowly on M1/M2 Macs, please use the legacy Keras optimizer instead, located at `tf.keras.optimizers.legacy.Adam`.\n"
     ]
    },
    {
     "name": "stdout",
     "output_type": "stream",
     "text": [
      "Epoch 1/100\n"
     ]
    },
    {
     "name": "stderr",
     "output_type": "stream",
     "text": [
      "/var/folders/l3/n3yjvx_d2g9dy0ztkyft2th40000gn/T/ipykernel_77984/1661807923.py:28: FutureWarning: KerasPruningCallback has been deprecated in v2.1.0. This feature will be removed in v4.0.0. See https://github.com/optuna/optuna/releases/tag/v2.1.0. Recent Keras release (2.4.0) simply redirects all APIs in the standalone keras package to point to tf.keras. There is now only one Keras: tf.keras. There may be some breaking changes for some workflows by upgrading to keras 2.4.0. Test before upgrading. REF: https://github.com/keras-team/keras/releases/tag/2.4.0. There is an alternative callback function that can be used instead: :class:`~optuna_integration.TFKerasPruningCallback`\n",
      "  history = model.fit(train_X, train_labels, epochs=100, batch_size=64, validation_data=(test_X, test_labels), callbacks=[KerasPruningCallback(trial, \"val_loss\")], verbose=2)\n"
     ]
    }
   ],
   "source": [
    "study_name = \"transformer-study\"  # Unique identifier of the study.\n",
    "storage_name = \"sqlite:///db.db\".format(study_name)\n",
    "op.delete_study(study_name, storage_name)\n",
    "study = op.create_study(study_name=study_name, storage=storage_name,direction=\"maximize\", pruner=op.pruners.MedianPruner(), load_if_exists=True)\n",
    "study.optimize(objective, n_trials=100)\n",
    "pruned_trials = study.get_trials(deepcopy=False, states=[TrialState.PRUNED])\n",
    "complete_trials = study.get_trials(deepcopy=False, states=[TrialState.COMPLETE])\n",
    "print(\"Study statistics: \")\n",
    "print(\"  Number of finished trials: \", len(study.trials))\n",
    "print(\"  Number of pruned trials: \", len(pruned_trials))\n",
    "print(\"  Number of complete trials: \", len(complete_trials))\n",
    "\n",
    "print(\"Best trial:\")\n",
    "trial = study.best_trial\n",
    "\n",
    "print(\"  Value: \", trial.vaq"
   ],
   "metadata": {
    "collapsed": false,
    "is_executing": true,
    "ExecuteTime": {
     "start_time": "2023-12-12T19:55:19.610517Z"
    }
   },
   "id": "2d580c2d5f4c885d"
  },
  {
   "cell_type": "code",
   "execution_count": 9,
   "outputs": [
    {
     "name": "stdout",
     "output_type": "stream",
     "text": [
      "MAE: 0.22996370487575682\n",
      "MSE: 0.0720632036644187\n",
      "RMSE: 0.2684459045402233\n"
     ]
    },
    {
     "data": {
      "text/plain": "<Figure size 1000x600 with 1 Axes>",
      "image/png": "[encoded data removed]"
     },
     "metadata": {},
     "output_type": "display_data"
    }
   ],
   "source": [
    "evaluate_model(predictions, test_labels)\n",
    "for i in range(1):\n",
    "    # Plot the first 5 predictions\n",
    "    plot_predictions(predictions, test_labels, i)"
   ],
   "metadata": {
    "collapsed": false,
    "ExecuteTime": {
     "end_time": "2023-12-12T19:21:06.618307Z",
     "start_time": "2023-12-12T19:21:06.468865Z"
    }
   },
   "id": "29f14f86cd0c408"
  }
 ],
 "metadata": {
  "kernelspec": {
   "display_name": "Python 3",
   "language": "python",
   "name": "python3"
  },
  "language_info": {
   "codemirror_mode": {
    "name": "ipython",
    "version": 2
   },
   "file_extension": ".py",
   "mimetype": "text/x-python",
   "name": "python",
   "nbconvert_exporter": "python",
   "pygments_lexer": "ipython2",
   "version": "2.7.6"
  }
 },
 "nbformat": 4,
 "nbformat_minor": 5
}
