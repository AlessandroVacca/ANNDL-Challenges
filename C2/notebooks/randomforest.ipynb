{
 "cells": [
  {
   "cell_type": "code",
   "execution_count": 3,
   "id": "initial_id",
   "metadata": {
    "collapsed": true,
    "ExecuteTime": {
     "end_time": "2023-12-12T14:21:25.164807Z",
     "start_time": "2023-12-12T14:21:24.678639Z"
    }
   },
   "outputs": [],
   "source": [
    "import numpy as np\n",
    "from sklearn.ensemble import RandomForestRegressor\n",
    "from Utils import *\n",
    "\n",
    "# Load the data\n",
    "training_data = np.load('training_data.npy')\n",
    "valid_periods = np.load('valid_periods.npy')\n",
    "categories = np.load('categories.npy')"
   ]
  },
  {
   "cell_type": "code",
   "execution_count": 4,
   "outputs": [
    {
     "name": "stdout",
     "output_type": "stream",
     "text": [
      "Dataset shape:  (48000, 200)\n"
     ]
    }
   ],
   "source": [
    "dataset, labels = build_sequences_optimized(training_data, valid_periods)"
   ],
   "metadata": {
    "collapsed": false,
    "ExecuteTime": {
     "end_time": "2023-12-12T14:21:26.766993Z",
     "start_time": "2023-12-12T14:21:26.172927Z"
    }
   },
   "id": "aeeff0e8cb0f4abd"
  },
  {
   "cell_type": "code",
   "execution_count": 5,
   "outputs": [
    {
     "name": "stdout",
     "output_type": "stream",
     "text": [
      "Train data shape:  (38400, 200)\n",
      "Test data shape:  (9600, 200)\n"
     ]
    }
   ],
   "source": [
    "train_data, train_labels, test_data, test_labels = split_dataset(dataset, labels)"
   ],
   "metadata": {
    "collapsed": false,
    "ExecuteTime": {
     "end_time": "2023-12-12T14:21:28.637023Z",
     "start_time": "2023-12-12T14:21:28.633728Z"
    }
   },
   "id": "70a2d9034f678b4e"
  },
  {
   "cell_type": "code",
   "execution_count": 6,
   "outputs": [],
   "source": [
    "# Train a forecasting model\n",
    "model = RandomForestRegressor(n_estimators=100, random_state=42)\n",
    "model.fit(train_data, train_labels)\n",
    "\n",
    "# Make predictions on the test data\n",
    "predictions = model.predict(test_data)"
   ],
   "metadata": {
    "collapsed": false,
    "ExecuteTime": {
     "end_time": "2023-12-12T14:34:02.877549Z",
     "start_time": "2023-12-12T14:21:55.303763Z"
    }
   },
   "id": "9bc90f53f6459d7b"
  },
  {
   "cell_type": "code",
   "execution_count": 8,
   "outputs": [
    {
     "name": "stdout",
     "output_type": "stream",
     "text": [
      "MAE: 0.11333084585729576\n",
      "MSE: 0.025716736011604804\n",
      "RMSE: 0.16036438510967704\n",
      "MAPE: 2296764040.5367875%\n"
     ]
    }
   ],
   "source": [
    "evaluate_model(predictions, test_labels)"
   ],
   "metadata": {
    "collapsed": false,
    "ExecuteTime": {
     "end_time": "2023-12-12T14:42:17.728832Z",
     "start_time": "2023-12-12T14:42:17.720789Z"
    }
   },
   "id": "29f14f86cd0c408"
  }
 ],
 "metadata": {
  "kernelspec": {
   "display_name": "Python 3",
   "language": "python",
   "name": "python3"
  },
  "language_info": {
   "codemirror_mode": {
    "name": "ipython",
    "version": 2
   },
   "file_extension": ".py",
   "mimetype": "text/x-python",
   "name": "python",
   "nbconvert_exporter": "python",
   "pygments_lexer": "ipython2",
   "version": "2.7.6"
  }
 },
 "nbformat": 4,
 "nbformat_minor": 5
}
