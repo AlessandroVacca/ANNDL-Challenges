{
 "cells": [
  {
   "cell_type": "code",
   "execution_count": 4,
   "id": "initial_id",
   "metadata": {
    "collapsed": true,
    "ExecuteTime": {
     "end_time": "2023-12-12T00:39:53.317544Z",
     "start_time": "2023-12-12T00:25:18.661278Z"
    }
   },
   "outputs": [],
   "source": [
    "import numpy as np\n",
    "from sklearn.model_selection import train_test_split\n",
    "from sklearn.ensemble import RandomForestRegressor\n",
    "\n",
    "# Load the data\n",
    "training_data = np.load('training_data.npy')\n",
    "valid_periods = np.load('valid_periods.npy')\n",
    "categories = np.load('categories.npy')\n",
    "\n",
    "# Define the categories\n",
    "category_dict = {'A': 0, 'B': 1, 'C': 2, 'D': 3, 'E': 4, 'F': 5}\n",
    "\n",
    "# Convert categories to numerical values\n",
    "numerical_categories = np.vectorize(category_dict.get)(categories)\n",
    "\n",
    "# Find the maximum length of the valid periods\n",
    "max_length = max(valid_periods[:, 1] - valid_periods[:, 0])\n",
    "\n",
    "# Pad the sequences in valid_training_data to the maximum length\n",
    "valid_training_data_padded = np.array([np.pad(training_data[i, valid_periods[i, 0]:valid_periods[i, 1]], (0, max_length - (valid_periods[i, 1] - valid_periods[i, 0]))) for i in range(training_data.shape[0])])\n",
    "\n",
    "# Use valid_training_data_padded instead of valid_training_data\n",
    "X_train, X_test, y_train, y_test = train_test_split(valid_training_data_padded, numerical_categories, test_size=0.2, random_state=42)\n",
    "\n",
    "# Train a forecasting model\n",
    "model = RandomForestRegressor(n_estimators=100, random_state=42)\n",
    "model.fit(X_train, y_train)\n",
    "\n",
    "# Make predictions on the test data\n",
    "predictions = model.predict(X_test)"
   ]
  },
  {
   "cell_type": "code",
   "execution_count": 6,
   "outputs": [
    {
     "name": "stdout",
     "output_type": "stream",
     "text": [
      "MAE: 0.6770029513888889\n",
      "MSE: 0.8406661953125\n",
      "RMSE: 0.9168785062986807\n",
      "MAPE: 121936458361.92308%\n"
     ]
    }
   ],
   "source": [
    "from sklearn.metrics import mean_absolute_error, mean_squared_error\n",
    "from math import sqrt\n",
    "\n",
    "# Calculate Mean Absolute Error\n",
    "mae = mean_absolute_error(y_test, predictions)\n",
    "\n",
    "# Calculate Mean Squared Error\n",
    "mse = mean_squared_error(y_test, predictions)\n",
    "\n",
    "# Calculate Root Mean Squared Error\n",
    "rmse = sqrt(mse)\n",
    "\n",
    "# Calculate Mean Absolute Percentage Error\n",
    "epsilon = 1e-10  # small constant to avoid division by zero\n",
    "mape = np.mean(np.abs((y_test - predictions) / (y_test + epsilon))) * 100\n",
    "\n",
    "print(f\"MAE: {mae}\")\n",
    "print(f\"MSE: {mse}\")\n",
    "print(f\"RMSE: {rmse}\")\n",
    "print(f\"MAPE: {mape}%\")"
   ],
   "metadata": {
    "collapsed": false,
    "ExecuteTime": {
     "end_time": "2023-12-12T00:41:20.562928Z",
     "start_time": "2023-12-12T00:41:20.558794Z"
    }
   },
   "id": "29f14f86cd0c408"
  }
 ],
 "metadata": {
  "kernelspec": {
   "display_name": "Python 3",
   "language": "python",
   "name": "python3"
  },
  "language_info": {
   "codemirror_mode": {
    "name": "ipython",
    "version": 2
   },
   "file_extension": ".py",
   "mimetype": "text/x-python",
   "name": "python",
   "nbconvert_exporter": "python",
   "pygments_lexer": "ipython2",
   "version": "2.7.6"
  }
 },
 "nbformat": 4,
 "nbformat_minor": 5
}
