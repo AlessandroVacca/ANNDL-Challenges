{
 "cells": [
  {
   "cell_type": "code",
   "execution_count": 3,
   "id": "initial_id",
   "metadata": {
    "collapsed": true,
    "ExecuteTime": {
     "end_time": "2023-12-12T14:21:25.164807Z",
     "start_time": "2023-12-12T14:21:24.678639Z"
    }
   },
   "outputs": [],
   "source": [
    "import numpy as np\n",
    "from sklearn.model_selection import train_test_split\n",
    "from sklearn.ensemble import RandomForestRegressor\n",
    "\n",
    "# Load the data\n",
    "training_data = np.load('training_data.npy')\n",
    "valid_periods = np.load('valid_periods.npy')\n",
    "categories = np.load('categories.npy')"
   ]
  },
  {
   "cell_type": "code",
   "execution_count": 4,
   "outputs": [
    {
     "name": "stdout",
     "output_type": "stream",
     "text": [
      "Dataset shape:  (48000, 200)\n"
     ]
    }
   ],
   "source": [
    "def build_sequences_optimized(data, valid_periods, window=200, stride=20, telescope=18):\n",
    "    assert window % stride == 0\n",
    "\n",
    "    num_sequences = len(valid_periods)\n",
    "    dataset = np.zeros((num_sequences, window))\n",
    "    labels = np.zeros((num_sequences, telescope))\n",
    "\n",
    "    for i in range(num_sequences):\n",
    "        start, end = valid_periods[i]\n",
    "        actual_entry_end = None\n",
    "        if end - start < window + telescope:\n",
    "            if end - start < telescope + 1:\n",
    "                print(\"Sequence too short, skipping\")\n",
    "                continue\n",
    "            else:\n",
    "                entry = data[i, start:end - telescope]\n",
    "                if entry.shape[0] == 0:\n",
    "                    print(\"Sequence too short, skipping it should be impossible\")\n",
    "                    continue\n",
    "                entry = np.pad(entry, (window - entry.shape[0], 0), 'edge')\n",
    "                actual_entry_end = end - telescope\n",
    "        else:\n",
    "            if end - start - window - telescope == 0:\n",
    "                actual_start = start\n",
    "            else:\n",
    "                actual_start = np.random.randint(start, end - telescope - window)\n",
    "            entry = data[i, actual_start:actual_start + window]\n",
    "            actual_entry_end = actual_start + window\n",
    "        \n",
    "        label = data[i, actual_entry_end:actual_entry_end + telescope]\n",
    "        dataset[i] = entry\n",
    "        labels[i] = label\n",
    "    \n",
    "    #remove empty rows\n",
    "    non_empty_indices = ~np.all(dataset == 0, axis=1)\n",
    "    dataset = dataset[non_empty_indices]\n",
    "    labels = labels[non_empty_indices]\n",
    "    return dataset, labels\n",
    "\n",
    "# Usage:\n",
    "dataset, labels = build_sequences_optimized(training_data, valid_periods)\n",
    "print(\"Dataset shape: \", dataset.shape)"
   ],
   "metadata": {
    "collapsed": false,
    "ExecuteTime": {
     "end_time": "2023-12-12T14:21:26.766993Z",
     "start_time": "2023-12-12T14:21:26.172927Z"
    }
   },
   "id": "aeeff0e8cb0f4abd"
  },
  {
   "cell_type": "code",
   "execution_count": 5,
   "outputs": [
    {
     "name": "stdout",
     "output_type": "stream",
     "text": [
      "Train data shape:  (38400, 200)\n",
      "Test data shape:  (9600, 200)\n"
     ]
    }
   ],
   "source": [
    "def split_dataset(dataset, labels, split_percentage=0.8):\n",
    "    # Calculate the index at which to split the data\n",
    "    split_index = int(len(dataset) * split_percentage)\n",
    "\n",
    "    # Split the dataset and labels into training and test sets\n",
    "    train_data, test_data = dataset[:split_index], dataset[split_index:]\n",
    "    train_labels, test_labels = labels[:split_index], labels[split_index:]\n",
    "\n",
    "    return train_data, train_labels, test_data, test_labels\n",
    "\n",
    "# Usage:\n",
    "train_data, train_labels, test_data, test_labels = split_dataset(dataset, labels)\n",
    "print(\"Train data shape: \", train_data.shape)\n",
    "print(\"Test data shape: \", test_data.shape)"
   ],
   "metadata": {
    "collapsed": false,
    "ExecuteTime": {
     "end_time": "2023-12-12T14:21:28.637023Z",
     "start_time": "2023-12-12T14:21:28.633728Z"
    }
   },
   "id": "70a2d9034f678b4e"
  },
  {
   "cell_type": "code",
   "execution_count": 6,
   "outputs": [],
   "source": [
    "# Define the categories\n",
    "category_dict = {'A': 0, 'B': 1, 'C': 2, 'D': 3, 'E': 4, 'F': 5}\n",
    "\n",
    "# Convert categories to numerical values\n",
    "numerical_categories = np.vectorize(category_dict.get)(categories)\n",
    "\n",
    "# Find the maximum length of the valid periods\n",
    "max_length = max(valid_periods[:, 1] - valid_periods[:, 0])\n",
    "\n",
    "# Pad the sequences in valid_training_data to the maximum length\n",
    "valid_training_data_padded = np.array([np.pad(training_data[i, valid_periods[i, 0]:valid_periods[i, 1]], (0, max_length - (valid_periods[i, 1] - valid_periods[i, 0]))) for i in range(training_data.shape[0])])\n",
    "\n",
    "# Use valid_training_data_padded instead of valid_training_data\n",
    "X_train, X_test, y_train, y_test = train_test_split(valid_training_data_padded, numerical_categories, test_size=0.2, random_state=42)\n",
    "\n",
    "# Train a forecasting model\n",
    "model = RandomForestRegressor(n_estimators=100, random_state=42)\n",
    "model.fit(train_data, train_labels)\n",
    "\n",
    "# Make predictions on the test data\n",
    "predictions = model.predict(test_data)"
   ],
   "metadata": {
    "collapsed": false,
    "ExecuteTime": {
     "end_time": "2023-12-12T14:34:02.877549Z",
     "start_time": "2023-12-12T14:21:55.303763Z"
    }
   },
   "id": "9bc90f53f6459d7b"
  },
  {
   "cell_type": "code",
   "execution_count": 8,
   "outputs": [
    {
     "name": "stdout",
     "output_type": "stream",
     "text": [
      "MAE: 0.11333084585729576\n",
      "MSE: 0.025716736011604804\n",
      "RMSE: 0.16036438510967704\n",
      "MAPE: 2296764040.5367875%\n"
     ]
    }
   ],
   "source": [
    "from sklearn.metrics import mean_absolute_error, mean_squared_error\n",
    "from math import sqrt\n",
    "\n",
    "# Calculate Mean Absolute Error\n",
    "mae = mean_absolute_error(test_labels, predictions)\n",
    "\n",
    "# Calculate Mean Squared Error\n",
    "mse = mean_squared_error(test_labels, predictions)\n",
    "\n",
    "# Calculate Root Mean Squared Error\n",
    "rmse = sqrt(mse)\n",
    "\n",
    "# Calculate Mean Absolute Percentage Error\n",
    "epsilon = 1e-10  # small constant to avoid division by zero\n",
    "mape = np.mean(np.abs((test_labels - predictions) / (test_labels + epsilon))) * 100\n",
    "\n",
    "print(f\"MAE: {mae}\")\n",
    "print(f\"MSE: {mse}\")\n",
    "print(f\"RMSE: {rmse}\")\n",
    "print(f\"MAPE: {mape}%\")"
   ],
   "metadata": {
    "collapsed": false,
    "ExecuteTime": {
     "end_time": "2023-12-12T14:42:17.728832Z",
     "start_time": "2023-12-12T14:42:17.720789Z"
    }
   },
   "id": "29f14f86cd0c408"
  }
 ],
 "metadata": {
  "kernelspec": {
   "display_name": "Python 3",
   "language": "python",
   "name": "python3"
  },
  "language_info": {
   "codemirror_mode": {
    "name": "ipython",
    "version": 2
   },
   "file_extension": ".py",
   "mimetype": "text/x-python",
   "name": "python",
   "nbconvert_exporter": "python",
   "pygments_lexer": "ipython2",
   "version": "2.7.6"
  }
 },
 "nbformat": 4,
 "nbformat_minor": 5
}
