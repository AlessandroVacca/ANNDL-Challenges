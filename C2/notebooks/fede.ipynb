{
 "cells": [
  {
   "cell_type": "code",
   "execution_count": 1,
   "outputs": [
    {
     "name": "stdout",
     "output_type": "stream",
     "text": [
      "2.15.0\n"
     ]
    }
   ],
   "source": [
    "# Fix randomness and hide warnings\n",
    "seed = 42\n",
    "%load_ext autoreload\n",
    "%autoreload 2\n",
    "\n",
    "import os\n",
    "os.environ['TF_CPP_MIN_LOG_LEVEL'] = '3'\n",
    "os.environ['PYTHONHASHSEED'] = str(seed)\n",
    "os.environ['MPLCONFIGDIR'] = os.getcwd()+'/configs/'\n",
    "\n",
    "import warnings\n",
    "warnings.simplefilter(action='ignore', category=FutureWarning)\n",
    "warnings.simplefilter(action='ignore', category=Warning)\n",
    "\n",
    "import numpy as np\n",
    "np.random.seed(seed)\n",
    "\n",
    "import logging\n",
    "\n",
    "import random\n",
    "random.seed(seed)\n",
    "\n",
    "# Fix randomness and hide warnings\n",
    "seed = 42\n",
    "\n",
    "import os\n",
    "os.environ['TF_CPP_MIN_LOG_LEVEL'] = '3'\n",
    "os.environ['PYTHONHASHSEED'] = str(seed)\n",
    "os.environ['MPLCONFIGDIR'] = os.getcwd()+'/configs/'\n",
    "\n",
    "import warnings\n",
    "warnings.simplefilter(action='ignore', category=FutureWarning)\n",
    "warnings.simplefilter(action='ignore', category=Warning)\n",
    "\n",
    "import numpy as np\n",
    "np.random.seed(seed)\n",
    "\n",
    "import logging\n",
    "\n",
    "import random\n",
    "random.seed(seed)\n",
    "\n",
    "# Import tensorflow\n",
    "import tensorflow as tf\n",
    "from tensorflow import keras as tfk\n",
    "from tensorflow.keras import layers as tfkl\n",
    "tf.autograph.set_verbosity(0)\n",
    "tf.get_logger().setLevel(logging.ERROR)\n",
    "tf.compat.v1.logging.set_verbosity(tf.compat.v1.logging.ERROR)\n",
    "tf.random.set_seed(seed)\n",
    "tf.compat.v1.set_random_seed(seed)\n",
    "print(tf.__version__)\n",
    "\n",
    "import matplotlib.pyplot as plt\n",
    "plt.rc('font', size=16)"
   ],
   "metadata": {
    "collapsed": false,
    "ExecuteTime": {
     "end_time": "2023-12-12T23:17:36.703380030Z",
     "start_time": "2023-12-12T23:17:34.308754209Z"
    }
   },
   "id": "b91b117b7b9dc0d9"
  },
  {
   "cell_type": "code",
   "execution_count": 2,
   "outputs": [],
   "source": [
    "input_folder = '../data/training_dataset/'\n",
    "training_data = np.load(input_folder + 'training_data.npy')\n",
    "valid_periods = np.load(input_folder + 'valid_periods.npy')\n",
    "categories = np.load(input_folder + 'categories.npy')"
   ],
   "metadata": {
    "collapsed": false,
    "ExecuteTime": {
     "end_time": "2023-12-12T23:17:36.970334552Z",
     "start_time": "2023-12-12T23:17:36.704323914Z"
    }
   },
   "id": "426e566676bb6641"
  },
  {
   "cell_type": "code",
   "execution_count": 3,
   "outputs": [
    {
     "name": "stdout",
     "output_type": "stream",
     "text": [
      "Dataset shape:  (48000, 200)\n"
     ]
    }
   ],
   "source": [
    "from C2.notebooks.Utils import split_dataset, build_sequences_optimized\n",
    "\n",
    "dataset, labels = build_sequences_optimized(training_data, valid_periods)\n",
    "train_validation_data, train_validation_labels, test_data, test_labels = split_dataset(dataset, labels)\n",
    "train_data, train_labels, validation_data, validation_labels = split_dataset(train_validation_data, train_validation_labels)\n",
    "\n",
    "train_data = train_data.reshape((train_data.shape[0], train_data.shape[1], 1))\n",
    "train_labels = train_labels.reshape((train_labels.shape[0], train_labels.shape[1], 1))\n",
    "test_data = test_data.reshape((test_data.shape[0], test_data.shape[1], 1))\n",
    "test_labels = test_labels.reshape((test_labels.shape[0], test_labels.shape[1], 1))\n",
    "test_data = test_data.reshape((test_data.shape[0], test_data.shape[1], 1))\n",
    "test_labels = test_labels.reshape((test_labels.shape[0], test_labels.shape[1], 1))\n",
    "train_data.shape"
   ],
   "metadata": {
    "collapsed": false,
    "ExecuteTime": {
     "end_time": "2023-12-12T23:17:38.154707553Z",
     "start_time": "2023-12-12T23:17:36.973097094Z"
    }
   },
   "id": "4420282dc61f44e2"
  },
  {
   "cell_type": "code",
   "execution_count": 4,
   "outputs": [
    {
     "name": "stdout",
     "output_type": "stream",
     "text": [
      "Augmentation round:  0\n",
      "Augmentation round:  1\n",
      "Augmentation round:  2\n"
     ]
    }
   ],
   "source": [
    "def augment_data(train_data, train_labels, num_rounds=3):\n",
    "    num_augmentations=3\n",
    "    total_size = num_rounds * num_augmentations * len(train_data)\n",
    "\n",
    "    # Preallocate numpy arrays\n",
    "    augmented_train_data = np.empty((total_size, *train_data.shape[1:]))\n",
    "    augmented_train_labels = np.empty((total_size, *train_labels.shape[1:]))\n",
    "\n",
    "    for round in range(num_rounds):\n",
    "        print(\"Augmentation round: \", round)\n",
    "        for i in range(len(train_data)):\n",
    "            # Calculate the start index for this round and data point\n",
    "            start_idx = round * num_augmentations * len(train_data) + i * num_augmentations\n",
    "\n",
    "            # Add noise\n",
    "            noise = np.random.normal(0, 0.05, train_data[i].shape)\n",
    "            augmented_train_data[start_idx] = train_data[i] + noise\n",
    "            augmented_train_labels[start_idx] = train_labels[i]\n",
    "\n",
    "            # Add scaling\n",
    "            scaling = np.random.uniform(0.8, 1.2)\n",
    "            augmented_train_data[start_idx + 1] = train_data[i] * scaling\n",
    "            augmented_train_labels[start_idx + 1] = train_labels[i] * scaling\n",
    "\n",
    "            # Add constant value\n",
    "            constant = np.random.uniform(-0.1, 0.1)\n",
    "            augmented_train_data[start_idx + 2] = train_data[i] + constant\n",
    "            augmented_train_labels[start_idx + 2] = train_labels[i] + constant\n",
    "\n",
    "    return augmented_train_data, augmented_train_labels\n",
    "\n",
    "augmented_train_data, augmented_train_labels = augment_data(train_data, train_labels)\n",
    "# augmented_train_data, augmented_train_labels = augment_data(dataset, labels)\n",
    "augmented_train_data = augmented_train_data.reshape((augmented_train_data.shape[0], augmented_train_data.shape[1], 1))\n",
    "augmented_train_labels = augmented_train_labels.reshape((augmented_train_labels.shape[0], augmented_train_labels.shape[1], 1))\n",
    "\n",
    "# del train_data, train_labels"
   ],
   "metadata": {
    "collapsed": false,
    "ExecuteTime": {
     "end_time": "2023-12-12T23:17:41.637082306Z",
     "start_time": "2023-12-12T23:17:38.153644710Z"
    }
   },
   "id": "434411578d9d0edf"
  },
  {
   "cell_type": "code",
   "execution_count": 18,
   "outputs": [],
   "source": [
    "def build_CONV_LSTM_model(input_shape, output_shape):\n",
    "    assert input_shape[0] >= output_shape[0], \"Input time steps should be >= output time steps\"\n",
    "\n",
    "    # Input layer\n",
    "    input_layer = tf.keras.layers.Input(shape=input_shape, name='input_layer')\n",
    "\n",
    "    # LSTM layers\n",
    "    x = tf.keras.layers.Bidirectional(tf.keras.layers.LSTM(128, return_sequences=True, name='lstm'))(input_layer)\n",
    "    x = tf.keras.layers.Dropout(0.2)(x)\n",
    "    # Convolutional layers\n",
    "    x = tf.keras.layers.Conv1D(12, 5, padding='same', activation='relu', name='conv1')(x)\n",
    "    x = tf.keras.layers.MaxPooling1D(pool_size=2)(x)  # Adding MaxPooling to downsample\n",
    "\n",
    "    # Another Convolutional layer\n",
    "    x = tf.keras.layers.Conv1D(12, 3, padding='same', activation='relu', name='conv2')(x)\n",
    "\n",
    "    # Output layer\n",
    "    output_layer = tf.keras.layers.Conv1D(output_shape[1], 3, padding='same', name='output_layer')(x)\n",
    "\n",
    "    # Cropping to match output shape\n",
    "    crop_size = output_layer.shape[1] - output_shape[0]\n",
    "    output_layer = tf.keras.layers.Cropping1D((0, crop_size), name='cropping')(output_layer)\n",
    "\n",
    "    # Model instantiation\n",
    "    model = tf.keras.models.Model(inputs=input_layer, outputs=output_layer, name='Better_CONV_LSTM_model')\n",
    "\n",
    "    # Compiling the model\n",
    "    model.compile(loss=tf.keras.losses.MeanSquaredError(),\n",
    "                  metrics=[tf.keras.metrics.RootMeanSquaredError()],\n",
    "                  optimizer=tf.keras.optimizers.Adam(learning_rate=0.001))\n",
    "\n",
    "    return model\n",
    "\n",
    "\n",
    "def build_LSTM_model(input_shape, output_shape):\n",
    "    assert input_shape[0] >= output_shape[0], \"Input time steps should be >= output time steps\"\n",
    "\n",
    "    # Input layer\n",
    "    input_layer = tf.keras.layers.Input(shape=input_shape, name='input_layer')\n",
    "\n",
    "    # LSTM layers\n",
    "    \n",
    "    x = tf.keras.layers.Bidirectional(tf.keras.layers.LSTM(64, return_sequences=True, name='lstm'))(input_layer)\n",
    "    x = tf.keras.layers.Dropout(0.2)(x)\n",
    "    x = tf.keras.layers.Bidirectional(tf.keras.layers.LSTM(64, name='lstm'))(x)\n",
    "    x = tf.keras.layers.Dropout(0.2)(x)\n",
    "    # x = tf.keras.layers.Flatten()(x)\n",
    "    x = tf.keras.layers.Dense(128, activation='relu')(x)\n",
    "    # Output layer\n",
    "    output_layer = tf.keras.layers.Dense(output_shape[0], name='output_layer', activation='sigmoid')(x)\n",
    "    \n",
    "    # Model instantiation\n",
    "    model = tf.keras.models.Model(inputs=input_layer, outputs=output_layer, name='Better_CONV_LSTM_model')\n",
    "\n",
    "    # Compiling the model\n",
    "    model.compile(loss=tf.keras.losses.MeanSquaredError(),\n",
    "                  metrics=[tf.keras.metrics.RootMeanSquaredError()],\n",
    "                  optimizer=tf.keras.optimizers.Adam(learning_rate=0.001))\n",
    "\n",
    "    return model\n",
    "\n",
    "def build_LSTM_ENC_DEC_model(input_shape, output_shape):\n",
    "    assert input_shape[0] >= output_shape[0], \"Input time steps should be >= output time steps\"\n",
    "\n",
    "    # Input layer\n",
    "    input_layer = tf.keras.layers.Input(shape=input_shape, name='input_layer')\n",
    "\n",
    "    # LSTM layers\n",
    "    \n",
    "    x = tf.keras.layers.Bidirectional(tf.keras.layers.LSTM(32, name='lstm'))(input_layer)\n",
    "    x = tf.keras.layers.Dropout(0.2)(x)\n",
    "    x = tf.keras.layers.RepeatVector(output_shape[0])(x)\n",
    "    x = tf.keras.layers.Bidirectional(tf.keras.layers.LSTM(32, name='lstm', return_sequences=True))(x)\n",
    "    x = tf.keras.layers.Dropout(0.2)(x)\n",
    "    x = tf.keras.layers.Flatten()(x)\n",
    "    flatten_input = tf.keras.layers.Flatten()(input_layer)\n",
    "    # Skipper layer\n",
    "    x = tf.keras.layers.Concatenate()([x, flatten_input])\n",
    "    x = tf.keras.layers.Dense(128, activation='relu')(x)\n",
    "    # Output layer\n",
    "    output_layer = tf.keras.layers.Dense(output_shape[0], name='output_layer', activation='sigmoid')(x)\n",
    "    # Model instantiation\n",
    "    model = tf.keras.models.Model(inputs=input_layer, outputs=output_layer, name='Better_CONV_LSTM_model')\n",
    "\n",
    "    # Compiling the model\n",
    "    model.compile(loss=tf.keras.losses.MeanSquaredError(),\n",
    "                  metrics=[tf.keras.metrics.MeanAbsoluteError()],\n",
    "                  optimizer=tf.keras.optimizers.Adam(learning_rate=0.001))\n",
    "\n",
    "    return model"
   ],
   "metadata": {
    "collapsed": false,
    "ExecuteTime": {
     "end_time": "2023-12-12T23:46:45.026083783Z",
     "start_time": "2023-12-12T23:46:44.957358432Z"
    }
   },
   "id": "54312af6f2a491fb"
  },
  {
   "cell_type": "code",
   "execution_count": 19,
   "outputs": [
    {
     "name": "stdout",
     "output_type": "stream",
     "text": [
      "Model: \"Better_CONV_LSTM_model\"\n",
      "__________________________________________________________________________________________________\n",
      " Layer (type)                Output Shape                 Param #   Connected to                  \n",
      "==================================================================================================\n",
      " input_layer (InputLayer)    [(None, 200, 1)]             0         []                            \n",
      "                                                                                                  \n",
      " bidirectional_6 (Bidirecti  (None, 64)                   8704      ['input_layer[0][0]']         \n",
      " onal)                                                                                            \n",
      "                                                                                                  \n",
      " dropout_6 (Dropout)         (None, 64)                   0         ['bidirectional_6[0][0]']     \n",
      "                                                                                                  \n",
      " repeat_vector_3 (RepeatVec  (None, 18, 64)               0         ['dropout_6[0][0]']           \n",
      " tor)                                                                                             \n",
      "                                                                                                  \n",
      " bidirectional_7 (Bidirecti  (None, 18, 64)               24832     ['repeat_vector_3[0][0]']     \n",
      " onal)                                                                                            \n",
      "                                                                                                  \n",
      " dropout_7 (Dropout)         (None, 18, 64)               0         ['bidirectional_7[0][0]']     \n",
      "                                                                                                  \n",
      " flatten_6 (Flatten)         (None, 1152)                 0         ['dropout_7[0][0]']           \n",
      "                                                                                                  \n",
      " flatten_7 (Flatten)         (None, 200)                  0         ['input_layer[0][0]']         \n",
      "                                                                                                  \n",
      " concatenate_3 (Concatenate  (None, 1352)                 0         ['flatten_6[0][0]',           \n",
      " )                                                                   'flatten_7[0][0]']           \n",
      "                                                                                                  \n",
      " dense (Dense)               (None, 128)                  173184    ['concatenate_3[0][0]']       \n",
      "                                                                                                  \n",
      " output_layer (Dense)        (None, 18)                   2322      ['dense[0][0]']               \n",
      "                                                                                                  \n",
      "==================================================================================================\n",
      "Total params: 209042 (816.57 KB)\n",
      "Trainable params: 209042 (816.57 KB)\n",
      "Non-trainable params: 0 (0.00 Byte)\n",
      "__________________________________________________________________________________________________\n",
      "You must install pydot (`pip install pydot`) and install graphviz (see instructions at https://graphviz.gitlab.io/download/) for plot_model to work.\n"
     ]
    }
   ],
   "source": [
    "input_shape = augmented_train_data.shape[1:]\n",
    "output_shape = augmented_train_labels.shape[1:]\n",
    "batch_size = 256\n",
    "epochs = 10\n",
    "\n",
    "model = build_LSTM_ENC_DEC_model(input_shape, output_shape)\n",
    "model.summary()\n",
    "tfk.utils.plot_model(model, expand_nested=True, show_shapes=True) "
   ],
   "metadata": {
    "collapsed": false,
    "ExecuteTime": {
     "end_time": "2023-12-12T23:46:48.996143889Z",
     "start_time": "2023-12-12T23:46:47.598975571Z"
    }
   },
   "id": "83b46151be8e7477"
  },
  {
   "cell_type": "code",
   "execution_count": 20,
   "outputs": [
    {
     "name": "stdout",
     "output_type": "stream",
     "text": [
      "Epoch 1/10\n",
      "1688/1688 [==============================] - 41s 20ms/step - loss: 0.0231 - mean_absolute_error: 0.1097 - lr: 0.0010\n",
      "Epoch 2/10\n",
      "1688/1688 [==============================] - 34s 20ms/step - loss: 0.0204 - mean_absolute_error: 0.1019 - lr: 0.0010\n",
      "Epoch 3/10\n",
      "1688/1688 [==============================] - 35s 21ms/step - loss: 0.0196 - mean_absolute_error: 0.0995 - lr: 0.0010\n",
      "Epoch 4/10\n",
      "1688/1688 [==============================] - 35s 21ms/step - loss: 0.0191 - mean_absolute_error: 0.0981 - lr: 0.0010\n",
      "Epoch 5/10\n",
      "1688/1688 [==============================] - 35s 21ms/step - loss: 0.0186 - mean_absolute_error: 0.0967 - lr: 0.0010\n",
      "Epoch 6/10\n",
      "1688/1688 [==============================] - 35s 21ms/step - loss: 0.0182 - mean_absolute_error: 0.0955 - lr: 0.0010\n",
      "Epoch 7/10\n",
      "1688/1688 [==============================] - 35s 21ms/step - loss: 0.0177 - mean_absolute_error: 0.0943 - lr: 0.0010\n",
      "Epoch 8/10\n",
      "1688/1688 [==============================] - 35s 21ms/step - loss: 0.0174 - mean_absolute_error: 0.0932 - lr: 0.0010\n",
      "Epoch 9/10\n",
      "1688/1688 [==============================] - 35s 21ms/step - loss: 0.0171 - mean_absolute_error: 0.0924 - lr: 0.0010\n",
      "Epoch 10/10\n",
      "1688/1688 [==============================] - 35s 21ms/step - loss: 0.0168 - mean_absolute_error: 0.0917 - lr: 0.0010\n"
     ]
    }
   ],
   "source": [
    "# Train the model\n",
    "history = model.fit(\n",
    "    x = augmented_train_data,\n",
    "    y = augmented_train_labels,\n",
    "    batch_size = batch_size,\n",
    "    epochs = epochs,\n",
    "    # validation_data=(validation_data, validation_labels),\n",
    "    callbacks = [\n",
    "        tfk.callbacks.EarlyStopping(monitor='val_loss', mode='min', min_delta=0.0003, patience=12, restore_best_weights=True),\n",
    "        tfk.callbacks.ReduceLROnPlateau(monitor='val_loss', mode='min', patience=8, factor=0.1, min_lr=1e-5)\n",
    "    ]\n",
    ").history"
   ],
   "metadata": {
    "collapsed": false,
    "ExecuteTime": {
     "end_time": "2023-12-12T23:52:48.021704055Z",
     "start_time": "2023-12-12T23:46:51.477887280Z"
    }
   },
   "id": "57a075f1c49bfd3a"
  },
  {
   "cell_type": "code",
   "execution_count": 21,
   "outputs": [],
   "source": [
    "model.save('../models/ENC_DEC_model_light_deep.h5')"
   ],
   "metadata": {
    "collapsed": false,
    "ExecuteTime": {
     "end_time": "2023-12-12T23:53:59.021975493Z",
     "start_time": "2023-12-12T23:53:58.907342774Z"
    }
   },
   "id": "5d2a07220af8c847"
  },
  {
   "cell_type": "code",
   "execution_count": 18,
   "outputs": [
    {
     "name": "stdout",
     "output_type": "stream",
     "text": [
      "300/300 [==============================] - 4s 7ms/step\n",
      "MAE: 0.11244506225454622\n",
      "MSE: 0.026357403430591904\n",
      "RMSE: 0.16234963329367857\n"
     ]
    }
   ],
   "source": [
    "from C2.notebooks import Utils\n",
    "from importlib import reload\n",
    "reload(Utils)\n",
    "test_data_predictions = model.predict(test_data)\n",
    "Utils.evaluate_model(test_data_predictions, test_labels)"
   ],
   "metadata": {
    "collapsed": false,
    "ExecuteTime": {
     "end_time": "2023-12-12T23:10:52.676435794Z",
     "start_time": "2023-12-12T23:10:48.609307151Z"
    }
   },
   "id": "ca218b749a5b0ded"
  },
  {
   "cell_type": "code",
   "execution_count": null,
   "outputs": [],
   "source": [
    "# Evaluate random samples\n",
    "Utils.evaluate_model(np.random.rand(*test_data_predictions.shape), test_labels)"
   ],
   "metadata": {
    "collapsed": false
   },
   "id": "10fc3ea74e27cb23"
  },
  {
   "cell_type": "code",
   "execution_count": null,
   "outputs": [],
   "source": [
    "for _ in range(10):\n",
    "    idx = np.random.randint(0, len(test_data))\n",
    "    Utils.plot_predictions(test_data, test_data_predictions, test_labels,idx)\n",
    "    # Utils.plot_predictions(train_data, test_data_predictions, train_labels,idx)"
   ],
   "metadata": {
    "collapsed": false
   },
   "id": "6d1dc59849bcd76"
  },
  {
   "cell_type": "code",
   "execution_count": 14,
   "outputs": [
    {
     "name": "stdout",
     "output_type": "stream",
     "text": [
      "4/4 [==============================] - 2s 16ms/step\n"
     ]
    }
   ],
   "source": [
    "test_data_predictions = model.predict(augmented_train_data[:100])\n"
   ],
   "metadata": {
    "collapsed": false,
    "ExecuteTime": {
     "end_time": "2023-12-12T23:41:14.586825533Z",
     "start_time": "2023-12-12T23:41:12.380491242Z"
    }
   },
   "id": "7415d5cf399221e0"
  },
  {
   "cell_type": "code",
   "execution_count": 17,
   "outputs": [
    {
     "data": {
      "text/plain": "array([[0.2704957 , 0.1888153 , 0.18665417, 0.1464724 , 0.14875363,\n        0.19473699, 0.15720256, 0.16792174, 0.13143562],\n       [0.2836118 , 0.18262929, 0.17019786, 0.14843903, 0.15006319,\n        0.19932815, 0.16695595, 0.171206  , 0.1366302 ],\n       [0.28594938, 0.19818988, 0.18856847, 0.16557342, 0.16527791,\n        0.20994113, 0.18197347, 0.18599871, 0.15453036],\n       [0.27936515, 0.23412623, 0.23680733, 0.23384032, 0.2451307 ,\n        0.37971997, 0.31790653, 0.2536183 , 0.25412613],\n       [0.24417631, 0.18021816, 0.20076667, 0.19942991, 0.19388372,\n        0.33033836, 0.2872646 , 0.21693026, 0.20889732],\n       [0.33802056, 0.25613523, 0.278994  , 0.27566132, 0.26500046,\n        0.42824548, 0.36959705, 0.28930038, 0.2817797 ],\n       [0.40999848, 0.43533123, 0.47332177, 0.4547165 , 0.46077627,\n        0.4264002 , 0.46418178, 0.42985392, 0.4723959 ],\n       [0.50249714, 0.50151515, 0.5348998 , 0.5371747 , 0.5283224 ,\n        0.5260282 , 0.5413178 , 0.5489111 , 0.5344858 ],\n       [0.40816978, 0.4077705 , 0.43740508, 0.4369561 , 0.42982405,\n        0.42625144, 0.44467697, 0.45003176, 0.43567985],\n       [0.19749674, 0.16332372, 0.23496154, 0.3012166 , 0.27806488,\n        0.2776835 , 0.23507074, 0.25237408, 0.26479512],\n       [0.19611706, 0.20019373, 0.2483729 , 0.30090195, 0.24022618,\n        0.24866882, 0.21562672, 0.22397462, 0.26180816],\n       [0.15019155, 0.15458456, 0.19738755, 0.2339561 , 0.18874079,\n        0.1949267 , 0.1693017 , 0.17490213, 0.21193522],\n       [0.74564934, 0.756858  , 0.80185723, 0.6565161 , 0.640805  ,\n        0.69451106, 0.44123334, 0.5863377 , 0.6323487 ],\n       [0.76065207, 0.7730006 , 0.8268907 , 0.7126454 , 0.69433755,\n        0.7479851 , 0.53327256, 0.6314721 , 0.67964023],\n       [0.6805421 , 0.7205667 , 0.7907664 , 0.6690094 , 0.65585214,\n        0.702269  , 0.48453993, 0.5859229 , 0.63731503],\n       [0.45764005, 0.4660244 , 0.47774196, 0.46417603, 0.45425457,\n        0.4292776 , 0.41545218, 0.4663178 , 0.47260913],\n       [0.50347966, 0.51385677, 0.5356875 , 0.53304887, 0.5055267 ,\n        0.49307626, 0.4481984 , 0.47734737, 0.47483447],\n       [0.36473238, 0.38121685, 0.40743938, 0.39399487, 0.36513507,\n        0.3508377 , 0.31891242, 0.34258676, 0.33923152],\n       [0.813293  , 0.80126053, 0.81142896, 0.78878987, 0.7587526 ,\n        0.7467606 , 0.64597195, 0.7140997 , 0.74551255],\n       [0.8719518 , 0.8733319 , 0.86254543, 0.8128544 , 0.80184823,\n        0.7901022 , 0.68023974, 0.70797807, 0.74405   ],\n       [0.7508022 , 0.7602969 , 0.7569683 , 0.70655465, 0.70162624,\n        0.68479306, 0.5788252 , 0.60627925, 0.6458815 ],\n       [0.772309  , 0.80125815, 0.80331093, 0.77063406, 0.78294754,\n        0.77281654, 0.7094264 , 0.7513475 , 0.77487713],\n       [0.7125466 , 0.7170094 , 0.7342639 , 0.72130954, 0.7180742 ,\n        0.73480415, 0.7009623 , 0.72057223, 0.7441197 ],\n       [0.77127236, 0.7764663 , 0.78860426, 0.77592665, 0.76981807,\n        0.78394085, 0.7484409 , 0.7658977 , 0.7888612 ],\n       [0.37862715, 0.410948  , 0.4783705 , 0.41546217, 0.35372198,\n        0.2807268 , 0.21805042, 0.23738758, 0.2007691 ],\n       [0.36266345, 0.37220848, 0.4033986 , 0.3569672 , 0.30482414,\n        0.2538728 , 0.21071005, 0.21461447, 0.19785294],\n       [0.30708045, 0.31525192, 0.34554765, 0.30057815, 0.25335795,\n        0.20616606, 0.16793801, 0.17202327, 0.1572392 ],\n       [0.08625828, 0.08336422, 0.08823181, 0.10003283, 0.08861423,\n        0.0915625 , 0.09259188, 0.09145931, 0.09028201],\n       [0.11320014, 0.10920231, 0.11842734, 0.12327753, 0.11537281,\n        0.11230689, 0.11934309, 0.11423489, 0.11640411],\n       [0.18407589, 0.17770113, 0.19055176, 0.1916849 , 0.17993484,\n        0.17230003, 0.17431551, 0.17413889, 0.17420846],\n       [0.7530347 , 0.7257994 , 0.6708073 , 0.67643267, 0.7425367 ,\n        0.7501562 , 0.7477424 , 0.78486377, 0.7617413 ],\n       [0.62458515, 0.6022551 , 0.5539872 , 0.54924345, 0.60152745,\n        0.634589  , 0.6431314 , 0.65983003, 0.64940715],\n       [0.6961974 , 0.6709275 , 0.6073819 , 0.60515255, 0.6686046 ,\n        0.7054497 , 0.7156435 , 0.7311828 , 0.7213528 ],\n       [0.6133739 , 0.59005696, 0.62616616, 0.59723663, 0.58330935,\n        0.57632256, 0.5705875 , 0.68532574, 0.56307524],\n       [0.5124841 , 0.5067956 , 0.5484252 , 0.5273418 , 0.5035603 ,\n        0.46597433, 0.4665675 , 0.60498035, 0.48694754],\n       [0.47061273, 0.47559255, 0.5157062 , 0.49217123, 0.4675502 ,\n        0.4299479 , 0.42966673, 0.5815295 , 0.45366952],\n       [0.65281796, 0.66447103, 0.6836919 , 0.66837776, 0.67653096,\n        0.66921914, 0.6632178 , 0.69529825, 0.7066586 ],\n       [0.56623626, 0.58422375, 0.60552126, 0.60087365, 0.57498   ,\n        0.5837644 , 0.58114564, 0.6201344 , 0.61821395],\n       [0.63468504, 0.64587295, 0.66440344, 0.6593896 , 0.637774  ,\n        0.6416046 , 0.635629  , 0.67677027, 0.67395186],\n       [0.6592345 , 0.6267804 , 0.6203382 , 0.6343542 , 0.6258189 ,\n        0.62200445, 0.647347  , 0.634681  , 0.6357657 ],\n       [0.6086823 , 0.6197322 , 0.6396706 , 0.6163569 , 0.62162566,\n        0.6247466 , 0.62579894, 0.6401508 , 0.61151016],\n       [0.5051203 , 0.5179569 , 0.5392918 , 0.51233435, 0.5181283 ,\n        0.5168494 , 0.5231364 , 0.5332253 , 0.5023716 ],\n       [0.97129637, 0.9828712 , 0.9894791 , 0.99381196, 0.98915744,\n        0.9899957 , 0.9848573 , 0.98933184, 0.9918417 ],\n       [0.9845382 , 0.99061406, 0.988858  , 0.9966738 , 0.997618  ,\n        0.99670744, 0.99611676, 0.997387  , 0.9977397 ],\n       [0.93639535, 0.9542316 , 0.94735414, 0.95787054, 0.9584828 ,\n        0.95317316, 0.9476549 , 0.95999587, 0.96297544],\n       [0.54109323, 0.61972195, 0.65513945, 0.6789047 , 0.67783195,\n        0.6817248 , 0.6869682 , 0.68102187, 0.7138097 ],\n       [0.46840313, 0.4639369 , 0.52555203, 0.5472027 , 0.5464901 ,\n        0.5452878 , 0.54202193, 0.5702231 , 0.57967806],\n       [0.48643634, 0.48274368, 0.551293  , 0.58228374, 0.58420664,\n        0.58152956, 0.5770512 , 0.60728765, 0.61888623],\n       [0.8413641 , 0.8298498 , 0.8367082 , 0.79025054, 0.64056754,\n        0.6518285 , 0.7894804 , 0.8407188 , 0.84781194],\n       [0.8783546 , 0.8743253 , 0.87610793, 0.82787746, 0.69765204,\n        0.70734745, 0.82512224, 0.8744481 , 0.8888152 ],\n       [0.79853517, 0.79571325, 0.80050564, 0.7487065 , 0.6051621 ,\n        0.61107713, 0.74073964, 0.799131  , 0.82105565],\n       [0.9441598 , 0.938971  , 0.9481117 , 0.9456963 , 0.9366806 ,\n        0.9399617 , 0.9348656 , 0.9536208 , 0.9531664 ],\n       [0.9840037 , 0.9886568 , 0.9874163 , 0.99275947, 0.9930989 ,\n        0.9924867 , 0.99251163, 0.9948431 , 0.99379987],\n       [0.88846827, 0.90269154, 0.90667266, 0.90945655, 0.90327954,\n        0.91173697, 0.91121423, 0.9360959 , 0.9406086 ],\n       [0.3146908 , 0.2681844 , 0.4121223 , 0.34280106, 0.16168799,\n        0.15658577, 0.12839815, 0.18049638, 0.14072779],\n       [0.30615142, 0.24306104, 0.40965813, 0.32796702, 0.16514781,\n        0.15547313, 0.12760644, 0.184414  , 0.14928547],\n       [0.44181496, 0.35823962, 0.5570639 , 0.4647764 , 0.24236697,\n        0.23587967, 0.18709989, 0.27783388, 0.23041266],\n       [0.17897376, 0.12259118, 0.12191497, 0.09923404, 0.099408  ,\n        0.08450083, 0.10458045, 0.12946333, 0.09772425],\n       [0.16381091, 0.12468535, 0.11842606, 0.1023476 , 0.0855028 ,\n        0.0902499 , 0.10740131, 0.1247363 , 0.10154451],\n       [0.24181288, 0.19420576, 0.19309041, 0.16567065, 0.13908833,\n        0.14102453, 0.16608995, 0.19771829, 0.15321511],\n       [0.6112793 , 0.4495599 , 0.63931584, 0.2969807 , 0.17203766,\n        0.11286356, 0.13894212, 0.19235139, 0.12441071],\n       [0.57937104, 0.46867356, 0.6371375 , 0.31424373, 0.17410524,\n        0.12958817, 0.1468866 , 0.21574561, 0.16978359],\n       [0.62530816, 0.5138284 , 0.67941743, 0.35110664, 0.19382876,\n        0.14679326, 0.16404043, 0.245007  , 0.195157  ],\n       [0.35493147, 0.31226367, 0.3199173 , 0.2674962 , 0.12881508,\n        0.13863923, 0.16816194, 0.1369358 , 0.12025994],\n       [0.37147033, 0.29144666, 0.31595054, 0.25605765, 0.1435879 ,\n        0.12736677, 0.16347833, 0.14734814, 0.11951224],\n       [0.46239442, 0.39048705, 0.41433573, 0.3560947 , 0.20655963,\n        0.18212529, 0.22211687, 0.20491631, 0.17585495],\n       [0.71661276, 0.54109585, 0.3986517 , 0.29663965, 0.18291022,\n        0.16962361, 0.23532881, 0.333482  , 0.22258955],\n       [0.7786469 , 0.5917866 , 0.45133898, 0.316306  , 0.1820347 ,\n        0.16545977, 0.26368567, 0.37593278, 0.19188243],\n       [0.75952226, 0.596438  , 0.47634134, 0.36403307, 0.22376114,\n        0.20890011, 0.3054232 , 0.40848964, 0.23972662],\n       [0.18079427, 0.1846596 , 0.1736672 , 0.19632617, 0.19712788,\n        0.17489298, 0.22068636, 0.20774797, 0.19978516],\n       [0.16223912, 0.1708015 , 0.18407847, 0.18403918, 0.17702997,\n        0.18085952, 0.1915045 , 0.18318269, 0.18345667],\n       [0.14774014, 0.15631805, 0.16885918, 0.16983116, 0.16316743,\n        0.16666287, 0.17771657, 0.16800605, 0.16911064],\n       [0.72887474, 0.7185492 , 0.73356104, 0.7391459 , 0.72058856,\n        0.6984832 , 0.72906774, 0.74344635, 0.7535048 ],\n       [0.9211028 , 0.9200299 , 0.92477846, 0.9272045 , 0.9203236 ,\n        0.92538935, 0.92277896, 0.93056995, 0.9373199 ],\n       [0.83711845, 0.83612275, 0.8452721 , 0.8465474 , 0.844188  ,\n        0.84943783, 0.84477574, 0.8589719 , 0.8655948 ],\n       [0.32188073, 0.2573067 , 0.26684612, 0.29337952, 0.3023333 ,\n        0.33156803, 0.3481301 , 0.3506946 , 0.29791284],\n       [0.21154174, 0.21512724, 0.23060471, 0.23130712, 0.22487515,\n        0.23032665, 0.24070512, 0.23495798, 0.23318356],\n       [0.3159444 , 0.31614667, 0.33665103, 0.32979023, 0.32345784,\n        0.32926223, 0.340051  , 0.34429285, 0.33858317],\n       [0.5388107 , 0.5698269 , 0.5820984 , 0.55024636, 0.5873482 ,\n        0.57096153, 0.5919427 , 0.5925926 , 0.60997707],\n       [0.5808308 , 0.5867717 , 0.6125838 , 0.61383605, 0.61409515,\n        0.6161534 , 0.62232596, 0.6375025 , 0.6377057 ],\n       [0.47484812, 0.48197272, 0.5061919 , 0.50588304, 0.5068447 ,\n        0.51044446, 0.51579815, 0.52786756, 0.5260224 ],\n       [0.5516874 , 0.5486602 , 0.71091336, 0.5965086 , 0.6575695 ,\n        0.633956  , 0.48130605, 0.6056141 , 0.6254127 ],\n       [0.6195554 , 0.6620269 , 0.7484992 , 0.7173099 , 0.7400781 ,\n        0.719264  , 0.60909617, 0.7190138 , 0.72309154],\n       [0.52083683, 0.56256825, 0.6516654 , 0.61569136, 0.6433482 ,\n        0.6217093 , 0.5162991 , 0.62238514, 0.6226436 ],\n       [0.11999318, 0.1252307 , 0.12950882, 0.12118794, 0.12635294,\n        0.12517394, 0.1431004 , 0.14182155, 0.12885374],\n       [0.11172757, 0.11664088, 0.12592079, 0.11716542, 0.11570208,\n        0.12140697, 0.13537398, 0.12111878, 0.1250712 ],\n       [0.05050711, 0.05548808, 0.06012025, 0.05573042, 0.05319501,\n        0.05691406, 0.06906217, 0.0542524 , 0.05925091],\n       [0.8020209 , 0.76827204, 0.7884485 , 0.86745864, 0.8082755 ,\n        0.8571846 , 0.8447138 , 0.78547615, 0.75965405],\n       [0.8622357 , 0.83798534, 0.8681409 , 0.9179061 , 0.8772927 ,\n        0.88665485, 0.8696835 , 0.8246742 , 0.7912776 ],\n       [0.78143173, 0.75528777, 0.79350036, 0.8629229 , 0.8139431 ,\n        0.82655156, 0.81034493, 0.7548249 , 0.72527933],\n       [0.5847613 , 0.48747987, 0.5598102 , 0.5322585 , 0.5511197 ,\n        0.66268253, 0.55038124, 0.59094656, 0.6370986 ],\n       [0.5425892 , 0.49937066, 0.53304774, 0.4891202 , 0.5059993 ,\n        0.6162491 , 0.51937556, 0.54390466, 0.5861392 ],\n       [0.7080837 , 0.6660391 , 0.6909895 , 0.65130407, 0.67223054,\n        0.7721419 , 0.6746231 , 0.7016884 , 0.7461734 ],\n       [0.36828068, 0.41887134, 0.42773685, 0.4263245 , 0.43551853,\n        0.45235828, 0.41335726, 0.5184807 , 0.45991194],\n       [0.36525404, 0.3834767 , 0.39874062, 0.39805445, 0.40052658,\n        0.40857005, 0.40078697, 0.47009635, 0.4126211 ],\n       [0.3169201 , 0.33359244, 0.3487703 , 0.34499073, 0.35556775,\n        0.3683242 , 0.35917205, 0.42783964, 0.36609498],\n       [0.5272359 , 0.52128375, 0.57367253, 0.56870335, 0.5884207 ,\n        0.5691434 , 0.52047414, 0.5578879 , 0.56946075],\n       [0.40340766, 0.38275445, 0.43269777, 0.42792082, 0.45729607,\n        0.44820392, 0.41841152, 0.43589827, 0.4309334 ],\n       [0.4074364 , 0.38761058, 0.44019094, 0.43774033, 0.47949776,\n        0.46927464, 0.4299805 , 0.4473556 , 0.44424513],\n       [0.40656844, 0.30020365, 0.38610202, 0.44649476, 0.4296255 ,\n        0.41728207, 0.44746178, 0.3818295 , 0.47541702]], dtype=float32)"
     },
     "execution_count": 17,
     "metadata": {},
     "output_type": "execute_result"
    }
   ],
   "source": [
    "test_data_predictions[:,:9]\n"
   ],
   "metadata": {
    "collapsed": false,
    "ExecuteTime": {
     "end_time": "2023-12-12T23:41:40.511086037Z",
     "start_time": "2023-12-12T23:41:40.432956591Z"
    }
   },
   "id": "9bd294816ad9d647"
  },
  {
   "cell_type": "code",
   "execution_count": null,
   "outputs": [],
   "source": [],
   "metadata": {
    "collapsed": false
   },
   "id": "935c1493e894e846"
  }
 ],
 "metadata": {
  "kernelspec": {
   "display_name": "Python 3",
   "language": "python",
   "name": "python3"
  },
  "language_info": {
   "codemirror_mode": {
    "name": "ipython",
    "version": 2
   },
   "file_extension": ".py",
   "mimetype": "text/x-python",
   "name": "python",
   "nbconvert_exporter": "python",
   "pygments_lexer": "ipython2",
   "version": "2.7.6"
  }
 },
 "nbformat": 4,
 "nbformat_minor": 5
}
