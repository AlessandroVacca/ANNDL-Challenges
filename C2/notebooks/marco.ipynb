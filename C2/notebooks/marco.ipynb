{
 "cells": [
  {
   "cell_type": "markdown",
   "source": [
    "# Import libraries"
   ],
   "metadata": {
    "collapsed": false
   },
   "id": "2bd975229dce4439"
  },
  {
   "cell_type": "code",
   "execution_count": 46,
   "outputs": [],
   "source": [
    "config = {\n",
    "    \"model\": \"lstm\", # \"lstm\", \"random_forest\", \"gru\n",
    "    \"shuffle\": False,\n",
    "    \"augmentation\": [\"from_utils\"], # \"shifting\", \"from_utils\"\n",
    "    \"validation\": True,\n",
    "    \"save_model\": True\n",
    "}"
   ],
   "metadata": {
    "collapsed": false,
    "ExecuteTime": {
     "end_time": "2023-12-15T22:57:22.188942Z",
     "start_time": "2023-12-15T22:57:22.163226Z"
    }
   },
   "id": "8a79370b55f34d18"
  },
  {
   "cell_type": "code",
   "execution_count": 61,
   "id": "initial_id",
   "metadata": {
    "collapsed": true,
    "ExecuteTime": {
     "end_time": "2023-12-15T23:41:00.419777Z",
     "start_time": "2023-12-15T23:41:00.417001Z"
    }
   },
   "outputs": [],
   "source": [
    "import numpy as np\n",
    "from sklearn.ensemble import RandomForestRegressor\n",
    "from Utils import *\n",
    "import tensorflow as tf\n",
    "from tensorflow.keras.models import Sequential\n",
    "from tensorflow.keras.layers import LSTM, Dense\n",
    "import os"
   ]
  },
  {
   "cell_type": "code",
   "execution_count": 48,
   "outputs": [
    {
     "name": "stdout",
     "output_type": "stream",
     "text": [
      "gpu_available:  True \tis_cuda_gpu_available:  True\n"
     ]
    },
    {
     "name": "stderr",
     "output_type": "stream",
     "text": [
      "2023-12-15 23:57:22.200951: I tensorflow/core/common_runtime/pluggable_device/pluggable_device_factory.cc:306] Could not identify NUMA node of platform GPU ID 0, defaulting to 0. Your kernel may not have been built with NUMA support.\n",
      "2023-12-15 23:57:22.200967: I tensorflow/core/common_runtime/pluggable_device/pluggable_device_factory.cc:272] Created TensorFlow device (/device:GPU:0 with 0 MB memory) -> physical PluggableDevice (device: 0, name: METAL, pci bus id: <undefined>)\n",
      "2023-12-15 23:57:22.201514: I tensorflow/core/common_runtime/pluggable_device/pluggable_device_factory.cc:306] Could not identify NUMA node of platform GPU ID 0, defaulting to 0. Your kernel may not have been built with NUMA support.\n",
      "2023-12-15 23:57:22.201522: I tensorflow/core/common_runtime/pluggable_device/pluggable_device_factory.cc:272] Created TensorFlow device (/device:GPU:0 with 0 MB memory) -> physical PluggableDevice (device: 0, name: METAL, pci bus id: <undefined>)\n",
      "2023-12-15 23:57:22.201561: I tensorflow/core/common_runtime/pluggable_device/pluggable_device_factory.cc:306] Could not identify NUMA node of platform GPU ID 0, defaulting to 0. Your kernel may not have been built with NUMA support.\n",
      "2023-12-15 23:57:22.201565: I tensorflow/core/common_runtime/pluggable_device/pluggable_device_factory.cc:272] Created TensorFlow device (/device:GPU:0 with 0 MB memory) -> physical PluggableDevice (device: 0, name: METAL, pci bus id: <undefined>)\n"
     ]
    }
   ],
   "source": [
    "# verify if GPU is available\n",
    "gpu_available = tf.test.is_gpu_available()\n",
    "is_cuda_gpu_available = tf.test.is_gpu_available(cuda_only=True)\n",
    "is_cuda_gpu_min_3 = tf.test.is_gpu_available(True, (3,0))\n",
    "print(\"gpu_available: \", gpu_available, \"\\tis_cuda_gpu_available: \", is_cuda_gpu_available)"
   ],
   "metadata": {
    "collapsed": false,
    "ExecuteTime": {
     "end_time": "2023-12-15T22:57:22.206711Z",
     "start_time": "2023-12-15T22:57:22.202460Z"
    }
   },
   "id": "bb5a7bebb2ddf692"
  },
  {
   "cell_type": "markdown",
   "source": [
    "# Import data"
   ],
   "metadata": {
    "collapsed": false
   },
   "id": "2533634461d9fb47"
  },
  {
   "cell_type": "code",
   "execution_count": 49,
   "outputs": [],
   "source": [
    "# Load the data\n",
    "training_data = np.load('training_dataset/training_data.npy')\n",
    "valid_periods = np.load('training_dataset/valid_periods.npy')\n",
    "categories = np.load('training_dataset/categories.npy')"
   ],
   "metadata": {
    "collapsed": false,
    "ExecuteTime": {
     "end_time": "2023-12-15T22:57:22.576892Z",
     "start_time": "2023-12-15T22:57:22.206124Z"
    }
   },
   "id": "cb7ae7e589a6327f"
  },
  {
   "cell_type": "markdown",
   "source": [
    "# Preprocess data"
   ],
   "metadata": {
    "collapsed": false
   },
   "id": "e3fc24353c8afc0a"
  },
  {
   "cell_type": "markdown",
   "source": [
    "## Shuffle data"
   ],
   "metadata": {
    "collapsed": false
   },
   "id": "968a41ec46f54ae7"
  },
  {
   "cell_type": "code",
   "execution_count": 50,
   "outputs": [],
   "source": [
    "def shuffle_data(data, valid_periods, categories):\n",
    "    permutations = np.random.permutation(data.shape[0])\n",
    "    data = data[permutations]\n",
    "    valid_periods = valid_periods[permutations]\n",
    "    categories = categories[permutations]\n",
    "    return data, valid_periods, categories\n",
    "\n",
    "if config[\"shuffle\"]:\n",
    "    training_data, valid_periods, categories = shuffle_data(training_data, valid_periods, categories)"
   ],
   "metadata": {
    "collapsed": false,
    "ExecuteTime": {
     "end_time": "2023-12-15T22:57:22.577316Z",
     "start_time": "2023-12-15T22:57:22.567585Z"
    }
   },
   "id": "dae9f92c28b3725f"
  },
  {
   "cell_type": "markdown",
   "source": [
    "## Build sequences"
   ],
   "metadata": {
    "collapsed": false
   },
   "id": "3b03a09b12118bf5"
  },
  {
   "cell_type": "code",
   "execution_count": 51,
   "outputs": [
    {
     "name": "stdout",
     "output_type": "stream",
     "text": [
      "Dataset shape:  (48000, 200)\n"
     ]
    }
   ],
   "source": [
    "dataset, labels = build_sequences_optimized(training_data, valid_periods)"
   ],
   "metadata": {
    "collapsed": false,
    "ExecuteTime": {
     "end_time": "2023-12-15T22:57:23.043680Z",
     "start_time": "2023-12-15T22:57:22.575556Z"
    }
   },
   "id": "aeeff0e8cb0f4abd"
  },
  {
   "cell_type": "markdown",
   "source": [
    "## Split dataset"
   ],
   "metadata": {
    "collapsed": false
   },
   "id": "f6b2edbba23091d9"
  },
  {
   "cell_type": "code",
   "execution_count": 52,
   "outputs": [
    {
     "name": "stdout",
     "output_type": "stream",
     "text": [
      "Train data shape:  (38400, 200)\n",
      "Test data shape:  (9600, 200)\n",
      "Train data shape:  (30720, 200)\n",
      "Test data shape:  (7680, 200)\n"
     ]
    }
   ],
   "source": [
    "if config[\"validation\"]:\n",
    "    train_validation_data, train_validation_labels, test_data, test_labels = split_dataset(dataset, labels)\n",
    "    train_data, train_labels, validation_data, validation_labels = split_dataset(train_validation_data, train_validation_labels)\n",
    "else:\n",
    "    train_data, train_labels, test_data, test_labels = split_dataset(dataset, labels)"
   ],
   "metadata": {
    "collapsed": false,
    "ExecuteTime": {
     "end_time": "2023-12-15T22:57:23.048143Z",
     "start_time": "2023-12-15T22:57:23.042015Z"
    }
   },
   "id": "70a2d9034f678b4e"
  },
  {
   "cell_type": "markdown",
   "source": [
    "## Data augmentation"
   ],
   "metadata": {
    "collapsed": false
   },
   "id": "f48ff89646c7a040"
  },
  {
   "cell_type": "code",
   "execution_count": 53,
   "outputs": [
    {
     "name": "stdout",
     "output_type": "stream",
     "text": [
      "Augmentation round:  0\n",
      "Augmentation round:  1\n",
      "Augmentation round:  2\n"
     ]
    }
   ],
   "source": [
    "def augment_shifting(data, valid_periods, categories, amount_of_augmentations=8000, max_augmentation=0.3):\n",
    "    training_data_lasts = data[-amount_of_augmentations:]\n",
    "    valid_periods_lasts = valid_periods[-amount_of_augmentations:]\n",
    "    categories_lasts = categories[-amount_of_augmentations:]\n",
    "\n",
    "    data = np.concatenate((training_data, training_data_lasts))\n",
    "    valid_periods = np.concatenate((valid_periods, valid_periods_lasts))\n",
    "    categories = np.concatenate((categories, categories_lasts))\n",
    "\n",
    "    for sequence in training_data[-amount_of_augmentations:]:\n",
    "        num = np.random.ranf()\n",
    "        while num > max_augmentation:\n",
    "            num = np.random.ranf()\n",
    "        sequence += num\n",
    "    \n",
    "    return data, valid_periods, categories\n",
    "\n",
    "import numpy as np\n",
    "\n",
    "def augment_window_slice_and_scale(data, window_size, scale_range):\n",
    "    augmented_data = []\n",
    "    for series in data:\n",
    "        # Randomly select a window\n",
    "        start_idx = np.random.randint(0, len(series) - window_size)\n",
    "        end_idx = start_idx + window_size\n",
    "\n",
    "        # Extract the windowed segment\n",
    "        window = series[start_idx:end_idx]\n",
    "\n",
    "        # Randomly scale the window\n",
    "        scale_factor = np.random.uniform(scale_range[0], scale_range[1])\n",
    "        scaled_window = window * scale_factor\n",
    "\n",
    "        augmented_data.append(scaled_window)\n",
    "\n",
    "    return np.array(augmented_data)\n",
    "\n",
    "if \"shifting\" in config[\"augmentation\"]:\n",
    "    training_data, valid_periods, categories = augment_shifting(training_data, valid_periods, categories)\n",
    "if \"scaling\" in config[\"augmentation\"]:\n",
    "    training_data = augment_window_slice_and_scale(training_data, 200, (0.5, 1.5))\n",
    "if \"from_utils\" in config[\"augmentation\"]:\n",
    "    train_data, train_labels = augment_data(train_data, train_labels)\n",
    "    "
   ],
   "metadata": {
    "collapsed": false,
    "ExecuteTime": {
     "end_time": "2023-12-15T22:57:24.088156Z",
     "start_time": "2023-12-15T22:57:23.050634Z"
    }
   },
   "id": "1ad0253367e4d55d"
  },
  {
   "cell_type": "markdown",
   "source": [
    "# Models"
   ],
   "metadata": {
    "collapsed": false
   },
   "id": "8d6b1c4826290b97"
  },
  {
   "cell_type": "markdown",
   "source": [
    "## LSTM"
   ],
   "metadata": {
    "collapsed": false
   },
   "id": "1574f40e78715db6"
  },
  {
   "cell_type": "code",
   "execution_count": 54,
   "outputs": [
    {
     "name": "stdout",
     "output_type": "stream",
     "text": [
      "Epoch 1/100\n",
      "8640/8640 [==============================] - 126s 15ms/step - loss: 0.0219 - val_loss: 0.0298\n",
      "Epoch 2/100\n",
      "8640/8640 [==============================] - 123s 14ms/step - loss: 0.0182 - val_loss: 0.0293\n",
      "Epoch 3/100\n",
      "8640/8640 [==============================] - 120s 14ms/step - loss: 0.0170 - val_loss: 0.0277\n",
      "Epoch 4/100\n",
      "8640/8640 [==============================] - 120s 14ms/step - loss: 0.0163 - val_loss: 0.0270\n",
      "Epoch 5/100\n",
      "8640/8640 [==============================] - 114s 13ms/step - loss: 0.0158 - val_loss: 0.0272\n",
      "Epoch 6/100\n",
      "8640/8640 [==============================] - 119s 14ms/step - loss: 0.0154 - val_loss: 0.0260\n",
      "Epoch 7/100\n",
      "8640/8640 [==============================] - 122s 14ms/step - loss: 0.0152 - val_loss: 0.0260\n",
      "Epoch 8/100\n",
      "8640/8640 [==============================] - 122s 14ms/step - loss: 0.0149 - val_loss: 0.0271\n",
      "Epoch 9/100\n",
      "8640/8640 [==============================] - 121s 14ms/step - loss: 0.0147 - val_loss: 0.0268\n",
      "Epoch 10/100\n",
      "8640/8640 [==============================] - 122s 14ms/step - loss: 0.0144 - val_loss: 0.0261\n",
      "Epoch 11/100\n",
      "8640/8640 [==============================] - 124s 14ms/step - loss: 0.0142 - val_loss: 0.0268\n",
      "Epoch 12/100\n",
      "8640/8640 [==============================] - 119s 14ms/step - loss: 0.0140 - val_loss: 0.0269\n",
      "Epoch 13/100\n",
      "8640/8640 [==============================] - 121s 14ms/step - loss: 0.0139 - val_loss: 0.0273\n",
      "Epoch 14/100\n",
      "8640/8640 [==============================] - 123s 14ms/step - loss: 0.0138 - val_loss: 0.0266\n",
      "Epoch 15/100\n",
      "8640/8640 [==============================] - 125s 14ms/step - loss: 0.0136 - val_loss: 0.0266\n",
      "Epoch 16/100\n",
      "8640/8640 [==============================] - 124s 14ms/step - loss: 0.0135 - val_loss: 0.0270\n",
      "Epoch 17/100\n",
      "8640/8640 [==============================] - 124s 14ms/step - loss: 0.0134 - val_loss: 0.0274\n"
     ]
    }
   ],
   "source": [
    "if config[\"model\"] == \"lstm\":\n",
    "    # Build LSTM model\n",
    "    model = Sequential()\n",
    "    model.add(LSTM(50, input_shape=(200, 1)))\n",
    "    model.add(Dense(18))\n",
    "    \n",
    "    model.compile(optimizer='adam', loss='mean_squared_error')\n",
    "    \n",
    "    callbacks = []\n",
    "    \n",
    "    # Train the model\n",
    "    if config[\"validation\"]:\n",
    "        from keras.callbacks import EarlyStopping\n",
    "        callbacks.append(tf.keras.callbacks.EarlyStopping(patience=10, monitor='val_loss'))\n",
    "        model.fit(train_data, train_labels, validation_data=(validation_data, validation_labels), epochs=100, batch_size=32, callbacks=callbacks)\n",
    "    else:\n",
    "        model.fit(train_data, train_labels, epochs=25, batch_size=32, callbacks=callbacks)"
   ],
   "metadata": {
    "collapsed": false,
    "ExecuteTime": {
     "end_time": "2023-12-15T23:31:52.120017Z",
     "start_time": "2023-12-15T22:57:24.091902Z"
    }
   },
   "id": "6630d85924213e03"
  },
  {
   "cell_type": "markdown",
   "source": [
    "## Random Forest"
   ],
   "metadata": {
    "collapsed": false
   },
   "id": "4dcd7638b7c2981a"
  },
  {
   "cell_type": "code",
   "execution_count": 55,
   "outputs": [],
   "source": [
    "if config[\"model\"] == \"random_forest\": # non funziona\n",
    "    # Train a forecasting model\n",
    "    model = RandomForestRegressor(n_estimators=100, random_state=42)\n",
    "    model.fit(train_data, train_labels)"
   ],
   "metadata": {
    "collapsed": false,
    "ExecuteTime": {
     "end_time": "2023-12-15T23:31:52.125869Z",
     "start_time": "2023-12-15T23:31:52.121317Z"
    }
   },
   "id": "9bc90f53f6459d7b"
  },
  {
   "cell_type": "markdown",
   "source": [
    "## GRU"
   ],
   "metadata": {
    "collapsed": false
   },
   "id": "c63f5b5c56db6440"
  },
  {
   "cell_type": "code",
   "execution_count": 56,
   "outputs": [],
   "source": [
    "if config[\"model\"] == \"gru\":\n",
    "    from tensorflow.keras.layers import GRU, Dense\n",
    "    # Build GRU model\n",
    "    model = Sequential()\n",
    "    model.add(GRU(64, input_shape=(200, 1)))\n",
    "    model.add(Dense(18))\n",
    "    \n",
    "    model.compile(optimizer='adam', loss='mean_squared_error')\n",
    "    \n",
    "    # Train the model\n",
    "    model.fit(train_data, train_labels, epochs=25, batch_size=32)"
   ],
   "metadata": {
    "collapsed": false,
    "ExecuteTime": {
     "end_time": "2023-12-15T23:31:52.129357Z",
     "start_time": "2023-12-15T23:31:52.124493Z"
    }
   },
   "id": "ba0f5e59fdfc54e0"
  },
  {
   "cell_type": "markdown",
   "source": [
    "# Evaluate model"
   ],
   "metadata": {
    "collapsed": false
   },
   "id": "693ec22f52c7174c"
  },
  {
   "cell_type": "code",
   "execution_count": 62,
   "outputs": [
    {
     "name": "stdout",
     "output_type": "stream",
     "text": [
      "300/300 [==============================] - 3s 9ms/step\n",
      "MAE: 0.09900879912018257\n",
      "MSE: 0.02170533407850327\n",
      "RMSE: 0.14732730255625828\n"
     ]
    }
   ],
   "source": [
    "telescope_musk = 9\n",
    "# Make predictions on the test data\n",
    "predictions = model.predict(test_data)\n",
    "final_predictions = predictions[:, :telescope_musk] if telescope_musk != 18 else predictions\n",
    "final_test_labels = test_labels[:, :telescope_musk] if telescope_musk != 18 else test_labels\n",
    "\n",
    "result = evaluate_model(final_test_labels, final_predictions)"
   ],
   "metadata": {
    "collapsed": false,
    "ExecuteTime": {
     "end_time": "2023-12-15T23:41:06.231543Z",
     "start_time": "2023-12-15T23:41:03.471505Z"
    }
   },
   "id": "29f14f86cd0c408"
  },
  {
   "cell_type": "code",
   "execution_count": 63,
   "outputs": [
    {
     "name": "stderr",
     "output_type": "stream",
     "text": [
      "/Users/Marco/IdeaProjects/ANN_C1/venv/lib/python3.9/site-packages/keras/src/engine/training.py:3079: UserWarning: You are saving your model as an HDF5 file via `model.save()`. This file format is considered legacy. We recommend using instead the native Keras format, e.g. `model.save('my_model.keras')`.\n",
      "  saving_api.save_model(\n"
     ]
    },
    {
     "ename": "TypeError",
     "evalue": "write() argument must be str, not None",
     "output_type": "error",
     "traceback": [
      "\u001B[0;31m---------------------------------------------------------------------------\u001B[0m",
      "\u001B[0;31mTypeError\u001B[0m                                 Traceback (most recent call last)",
      "Cell \u001B[0;32mIn[63], line 16\u001B[0m\n\u001B[1;32m     14\u001B[0m \u001B[38;5;66;03m# save text file with model name\u001B[39;00m\n\u001B[1;32m     15\u001B[0m \u001B[38;5;28;01mwith\u001B[39;00m \u001B[38;5;28mopen\u001B[39m(\u001B[38;5;124m\"\u001B[39m\u001B[38;5;124mmodels/\u001B[39m\u001B[38;5;124m\"\u001B[39m \u001B[38;5;241m+\u001B[39m final_file_name \u001B[38;5;241m+\u001B[39m \u001B[38;5;124m\"\u001B[39m\u001B[38;5;124m.txt\u001B[39m\u001B[38;5;124m\"\u001B[39m, \u001B[38;5;124m\"\u001B[39m\u001B[38;5;124mw\u001B[39m\u001B[38;5;124m\"\u001B[39m) \u001B[38;5;28;01mas\u001B[39;00m f:\n\u001B[0;32m---> 16\u001B[0m     \u001B[43mf\u001B[49m\u001B[38;5;241;43m.\u001B[39;49m\u001B[43mwrite\u001B[49m\u001B[43m(\u001B[49m\u001B[43mresult\u001B[49m\u001B[43m)\u001B[49m\n\u001B[1;32m     17\u001B[0m \u001B[38;5;28mprint\u001B[39m(\u001B[38;5;124m\"\u001B[39m\u001B[38;5;124mModel saved as: \u001B[39m\u001B[38;5;124m\"\u001B[39m \u001B[38;5;241m+\u001B[39m final_file_name \u001B[38;5;241m+\u001B[39m \u001B[38;5;124m\"\u001B[39m\u001B[38;5;124m.h5\u001B[39m\u001B[38;5;124m\"\u001B[39m)\n",
      "\u001B[0;31mTypeError\u001B[0m: write() argument must be str, not None"
     ]
    }
   ],
   "source": [
    "if config[\"save_model\"]:\n",
    "    file_name = config[\"model\"]\n",
    "    if config[\"shuffle\"]:\n",
    "        file_name += \"_shuffled\"\n",
    "    if config[\"augmentation\"]:\n",
    "        file_name += \"_augmented\"\n",
    "    final_file_name = file_name\n",
    "    count = 1\n",
    "    while os.path.exists(\"models/\" + final_file_name + \".h5\"):\n",
    "        count += 1\n",
    "        final_file_name = file_name + f\"_V{count}\"\n",
    "    \n",
    "    model.save(\"models/\" + final_file_name + \".h5\")\n",
    "    # save text file with model name\n",
    "    with open(\"models/\" + final_file_name + \".txt\", \"w\") as f:\n",
    "        f.write(result)\n",
    "    print(\"Model saved as: \" + final_file_name + \".h5\")"
   ],
   "metadata": {
    "collapsed": false,
    "ExecuteTime": {
     "end_time": "2023-12-15T23:41:07.952506Z",
     "start_time": "2023-12-15T23:41:07.920791Z"
    }
   },
   "id": "484aec420bf33a28"
  },
  {
   "cell_type": "code",
   "execution_count": null,
   "outputs": [],
   "source": [],
   "metadata": {
    "collapsed": false
   },
   "id": "6cce5c7142929e29"
  }
 ],
 "metadata": {
  "kernelspec": {
   "display_name": "Python 3",
   "language": "python",
   "name": "python3"
  },
  "language_info": {
   "codemirror_mode": {
    "name": "ipython",
    "version": 2
   },
   "file_extension": ".py",
   "mimetype": "text/x-python",
   "name": "python",
   "nbconvert_exporter": "python",
   "pygments_lexer": "ipython2",
   "version": "2.7.6"
  }
 },
 "nbformat": 4,
 "nbformat_minor": 5
}
